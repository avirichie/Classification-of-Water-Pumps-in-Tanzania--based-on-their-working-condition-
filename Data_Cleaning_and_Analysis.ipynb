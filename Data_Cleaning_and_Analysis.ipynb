{
  "nbformat": 4,
  "nbformat_minor": 0,
  "metadata": {
    "colab": {
      "name": "Data Cleaning and Analysis.ipynb",
      "provenance": [],
      "collapsed_sections": []
    },
    "kernelspec": {
      "name": "python3",
      "display_name": "Python 3"
    }
  },
  "cells": [
    {
      "cell_type": "code",
      "metadata": {
        "id": "9qp7f9CtR30Z",
        "colab_type": "code",
        "outputId": "60a0aa04-030b-4efa-d616-530e94c03868",
        "colab": {
          "base_uri": "https://localhost:8080/",
          "height": 72
        }
      },
      "source": [
        "import pandas as pd\n",
        "import numpy as np\n",
        "import matplotlib.pyplot as plt\n",
        "import seaborn as sns\n",
        "\n",
        "from sklearn.preprocessing import MinMaxScaler\n",
        "from sklearn.pipeline import Pipeline\n",
        "from sklearn.decomposition import PCA, KernelPCA\n",
        "from sklearn.linear_model import LogisticRegression\n",
        "from sklearn.metrics import accuracy_score,recall_score,precision_score,f1_score\n",
        "from sklearn.model_selection import GridSearchCV, KFold, cross_val_score, StratifiedKFold, train_test_split\n",
        "from sklearn.feature_selection import VarianceThreshold, RFE, SelectKBest, chi2\n",
        "from sklearn.ensemble import BaggingClassifier, ExtraTreesClassifier, GradientBoostingClassifier, VotingClassifier, RandomForestClassifier, AdaBoostClassifier\n",
        "from sklearn.svm import SVC\n",
        "from sklearn.discriminant_analysis import LinearDiscriminantAnalysis\n",
        "from sklearn.neighbors import KNeighborsClassifier\n",
        "from sklearn.tree import DecisionTreeClassifier"
      ],
      "execution_count": 0,
      "outputs": [
        {
          "output_type": "stream",
          "text": [
            "/usr/local/lib/python3.6/dist-packages/statsmodels/tools/_testing.py:19: FutureWarning: pandas.util.testing is deprecated. Use the functions in the public API at pandas.testing instead.\n",
            "  import pandas.util.testing as tm\n"
          ],
          "name": "stderr"
        }
      ]
    },
    {
      "cell_type": "code",
      "metadata": {
        "id": "t0DNzBYFSETz",
        "colab_type": "code",
        "colab": {}
      },
      "source": [
        "pd.set_option('display.max_rows', 100)\n",
        "pd.set_option('display.max_columns', 500)"
      ],
      "execution_count": 0,
      "outputs": []
    },
    {
      "cell_type": "code",
      "metadata": {
        "id": "ZhPARmBfSQGG",
        "colab_type": "code",
        "colab": {}
      },
      "source": [
        "train_df = pd.read_csv('Training set values.csv',index_col='id')\n",
        "test_df = pd.read_csv('Test Set values.csv',index_col='id')\n",
        "target_df = pd.read_csv('Training set Labels.csv',index_col='id')"
      ],
      "execution_count": 0,
      "outputs": []
    },
    {
      "cell_type": "code",
      "metadata": {
        "id": "A4WSzvgHVRAe",
        "colab_type": "code",
        "outputId": "adf87445-f430-4889-dfd8-20f3b8e866e9",
        "colab": {
          "base_uri": "https://localhost:8080/",
          "height": 52
        }
      },
      "source": [
        "print(\"Train Data shape\",train_df.shape)\n",
        "print(\"Test Data shape\",test_df.shape)"
      ],
      "execution_count": 0,
      "outputs": [
        {
          "output_type": "stream",
          "text": [
            "Train Data shape (59400, 39)\n",
            "Test Data shape (14850, 39)\n"
          ],
          "name": "stdout"
        }
      ]
    },
    {
      "cell_type": "code",
      "metadata": {
        "id": "X3CggTesTCXc",
        "colab_type": "code",
        "outputId": "81d25fec-5808-4a35-8976-1f5002db1a3e",
        "colab": {
          "base_uri": "https://localhost:8080/",
          "height": 721
        }
      },
      "source": [
        "train_df.dtypes"
      ],
      "execution_count": 0,
      "outputs": [
        {
          "output_type": "execute_result",
          "data": {
            "text/plain": [
              "amount_tsh               float64\n",
              "date_recorded             object\n",
              "funder                    object\n",
              "gps_height                 int64\n",
              "installer                 object\n",
              "longitude                float64\n",
              "latitude                 float64\n",
              "wpt_name                  object\n",
              "num_private                int64\n",
              "basin                     object\n",
              "subvillage                object\n",
              "region                    object\n",
              "region_code                int64\n",
              "district_code              int64\n",
              "lga                       object\n",
              "ward                      object\n",
              "population                 int64\n",
              "public_meeting            object\n",
              "recorded_by               object\n",
              "scheme_management         object\n",
              "scheme_name               object\n",
              "permit                    object\n",
              "construction_year          int64\n",
              "extraction_type           object\n",
              "extraction_type_group     object\n",
              "extraction_type_class     object\n",
              "management                object\n",
              "management_group          object\n",
              "payment                   object\n",
              "payment_type              object\n",
              "water_quality             object\n",
              "quality_group             object\n",
              "quantity                  object\n",
              "quantity_group            object\n",
              "source                    object\n",
              "source_type               object\n",
              "source_class              object\n",
              "waterpoint_type           object\n",
              "waterpoint_type_group     object\n",
              "dtype: object"
            ]
          },
          "metadata": {
            "tags": []
          },
          "execution_count": 5
        }
      ]
    },
    {
      "cell_type": "code",
      "metadata": {
        "id": "qsthu20GTNFT",
        "colab_type": "code",
        "colab": {}
      },
      "source": [
        "def feature_info(features):\n",
        "  print('Unique values in the feature:')\n",
        "  print(features.nunique())\n",
        "  print('No of Null values:')\n",
        "  print(features.isna().sum())"
      ],
      "execution_count": 0,
      "outputs": []
    },
    {
      "cell_type": "code",
      "metadata": {
        "id": "Bot6LMXXTnJm",
        "colab_type": "code",
        "outputId": "a4998fd7-015a-42be-a0b5-47a4bef2a13d",
        "colab": {
          "base_uri": "https://localhost:8080/",
          "height": 1000
        }
      },
      "source": [
        "feature_info(train_df)"
      ],
      "execution_count": 0,
      "outputs": [
        {
          "output_type": "stream",
          "text": [
            "Unique values in the feature:\n",
            "amount_tsh                  98\n",
            "date_recorded              356\n",
            "funder                    1897\n",
            "gps_height                2428\n",
            "installer                 2145\n",
            "longitude                57516\n",
            "latitude                 57517\n",
            "wpt_name                 37400\n",
            "num_private                 65\n",
            "basin                        9\n",
            "subvillage               19287\n",
            "region                      21\n",
            "region_code                 27\n",
            "district_code               20\n",
            "lga                        125\n",
            "ward                      2092\n",
            "population                1049\n",
            "public_meeting               2\n",
            "recorded_by                  1\n",
            "scheme_management           12\n",
            "scheme_name               2696\n",
            "permit                       2\n",
            "construction_year           55\n",
            "extraction_type             18\n",
            "extraction_type_group       13\n",
            "extraction_type_class        7\n",
            "management                  12\n",
            "management_group             5\n",
            "payment                      7\n",
            "payment_type                 7\n",
            "water_quality                8\n",
            "quality_group                6\n",
            "quantity                     5\n",
            "quantity_group               5\n",
            "source                      10\n",
            "source_type                  7\n",
            "source_class                 3\n",
            "waterpoint_type              7\n",
            "waterpoint_type_group        6\n",
            "dtype: int64\n",
            "No of Null values:\n",
            "amount_tsh                   0\n",
            "date_recorded                0\n",
            "funder                    3635\n",
            "gps_height                   0\n",
            "installer                 3655\n",
            "longitude                    0\n",
            "latitude                     0\n",
            "wpt_name                     0\n",
            "num_private                  0\n",
            "basin                        0\n",
            "subvillage                 371\n",
            "region                       0\n",
            "region_code                  0\n",
            "district_code                0\n",
            "lga                          0\n",
            "ward                         0\n",
            "population                   0\n",
            "public_meeting            3334\n",
            "recorded_by                  0\n",
            "scheme_management         3877\n",
            "scheme_name              28166\n",
            "permit                    3056\n",
            "construction_year            0\n",
            "extraction_type              0\n",
            "extraction_type_group        0\n",
            "extraction_type_class        0\n",
            "management                   0\n",
            "management_group             0\n",
            "payment                      0\n",
            "payment_type                 0\n",
            "water_quality                0\n",
            "quality_group                0\n",
            "quantity                     0\n",
            "quantity_group               0\n",
            "source                       0\n",
            "source_type                  0\n",
            "source_class                 0\n",
            "waterpoint_type              0\n",
            "waterpoint_type_group        0\n",
            "dtype: int64\n"
          ],
          "name": "stdout"
        }
      ]
    },
    {
      "cell_type": "code",
      "metadata": {
        "id": "ZoBtV3ETcGX7",
        "colab_type": "code",
        "colab": {}
      },
      "source": [
        "def convert_datetime(df, col):\n",
        "  df[col] = pd.to_datetime(df[col])\n",
        "  df['year'] = df[col].dt.year\n",
        "  df['month'] = df[col].dt.month \n",
        "  df['day'] = df[col].dt.day \n",
        "  \n",
        "  return None"
      ],
      "execution_count": 0,
      "outputs": []
    },
    {
      "cell_type": "code",
      "metadata": {
        "id": "w-fyDnuGjr6M",
        "colab_type": "code",
        "colab": {}
      },
      "source": [
        "convert_datetime(train_df,'date_recorded')\n",
        "convert_datetime(test_df,'date_recorded')"
      ],
      "execution_count": 0,
      "outputs": []
    },
    {
      "cell_type": "code",
      "metadata": {
        "id": "PzoQaxBgjzol",
        "colab_type": "code",
        "outputId": "e2c5df7d-46f4-4438-d730-8d9ecefb7fa5",
        "colab": {
          "base_uri": "https://localhost:8080/",
          "height": 879
        }
      },
      "source": [
        "train_df.info()"
      ],
      "execution_count": 0,
      "outputs": [
        {
          "output_type": "stream",
          "text": [
            "<class 'pandas.core.frame.DataFrame'>\n",
            "Int64Index: 59400 entries, 69572 to 26348\n",
            "Data columns (total 42 columns):\n",
            " #   Column                 Non-Null Count  Dtype         \n",
            "---  ------                 --------------  -----         \n",
            " 0   amount_tsh             59400 non-null  float64       \n",
            " 1   date_recorded          59400 non-null  datetime64[ns]\n",
            " 2   funder                 55765 non-null  object        \n",
            " 3   gps_height             59400 non-null  int64         \n",
            " 4   installer              55745 non-null  object        \n",
            " 5   longitude              59400 non-null  float64       \n",
            " 6   latitude               59400 non-null  float64       \n",
            " 7   wpt_name               59400 non-null  object        \n",
            " 8   num_private            59400 non-null  int64         \n",
            " 9   basin                  59400 non-null  object        \n",
            " 10  subvillage             59029 non-null  object        \n",
            " 11  region                 59400 non-null  object        \n",
            " 12  region_code            59400 non-null  int64         \n",
            " 13  district_code          59400 non-null  int64         \n",
            " 14  lga                    59400 non-null  object        \n",
            " 15  ward                   59400 non-null  object        \n",
            " 16  population             59400 non-null  int64         \n",
            " 17  public_meeting         56066 non-null  object        \n",
            " 18  recorded_by            59400 non-null  object        \n",
            " 19  scheme_management      55523 non-null  object        \n",
            " 20  scheme_name            31234 non-null  object        \n",
            " 21  permit                 56344 non-null  object        \n",
            " 22  construction_year      59400 non-null  int64         \n",
            " 23  extraction_type        59400 non-null  object        \n",
            " 24  extraction_type_group  59400 non-null  object        \n",
            " 25  extraction_type_class  59400 non-null  object        \n",
            " 26  management             59400 non-null  object        \n",
            " 27  management_group       59400 non-null  object        \n",
            " 28  payment                59400 non-null  object        \n",
            " 29  payment_type           59400 non-null  object        \n",
            " 30  water_quality          59400 non-null  object        \n",
            " 31  quality_group          59400 non-null  object        \n",
            " 32  quantity               59400 non-null  object        \n",
            " 33  quantity_group         59400 non-null  object        \n",
            " 34  source                 59400 non-null  object        \n",
            " 35  source_type            59400 non-null  object        \n",
            " 36  source_class           59400 non-null  object        \n",
            " 37  waterpoint_type        59400 non-null  object        \n",
            " 38  waterpoint_type_group  59400 non-null  object        \n",
            " 39  year                   59400 non-null  int64         \n",
            " 40  month                  59400 non-null  int64         \n",
            " 41  day                    59400 non-null  int64         \n",
            "dtypes: datetime64[ns](1), float64(3), int64(9), object(29)\n",
            "memory usage: 19.5+ MB\n"
          ],
          "name": "stdout"
        }
      ]
    },
    {
      "cell_type": "markdown",
      "metadata": {
        "id": "kCnnlaqpBl-F",
        "colab_type": "text"
      },
      "source": [
        "For everytime a longitude is recorded 0 the corresponding latitude is marked as -2.000000e-08, which is actually absurd because these are garbage values and cant be the correct ones. We need to replace that with the suitable one. Similarly for every numerical column where there is 0  we can think that its equivalent to missing and compute the suitable imputations to it "
      ]
    },
    {
      "cell_type": "code",
      "metadata": {
        "id": "9DESaaJFAWgO",
        "colab_type": "code",
        "colab": {}
      },
      "source": [
        "train_copy =  train_df.copy()\n",
        "test_copy = test_df.copy()\n",
        "def clean_num(df):\n",
        " cols = ['amount_tsh', 'gps_height', 'longitude', 'latitude','population','construction_year']\n",
        " df[cols] = df[cols].replace({0:np.nan, -2.000000e-08:np.nan})\n",
        "\n",
        " for feature in cols:\n",
        "   df[feature] = df[feature].fillna(df.groupby('region')[feature].transform('mean'))\n",
        " \n",
        " for feature in cols:\n",
        "   med =  df[feature].median()\n",
        "   df[feature] = df[feature].fillna(med)\n",
        "\n",
        " return df"
      ],
      "execution_count": 0,
      "outputs": []
    },
    {
      "cell_type": "code",
      "metadata": {
        "id": "J22l_X4dQ6Pm",
        "colab_type": "code",
        "colab": {}
      },
      "source": [
        "train_copy=clean_num(train_copy)\n",
        "test_copy=clean_num(test_copy)"
      ],
      "execution_count": 0,
      "outputs": []
    },
    {
      "cell_type": "code",
      "metadata": {
        "id": "wfYIva8GpuXR",
        "colab_type": "code",
        "outputId": "eac64fd2-6b0a-4c19-b346-4c147d60cd30",
        "colab": {
          "base_uri": "https://localhost:8080/",
          "height": 430
        }
      },
      "source": [
        "train_copy.head()"
      ],
      "execution_count": 0,
      "outputs": [
        {
          "output_type": "execute_result",
          "data": {
            "text/html": [
              "<div>\n",
              "<style scoped>\n",
              "    .dataframe tbody tr th:only-of-type {\n",
              "        vertical-align: middle;\n",
              "    }\n",
              "\n",
              "    .dataframe tbody tr th {\n",
              "        vertical-align: top;\n",
              "    }\n",
              "\n",
              "    .dataframe thead th {\n",
              "        text-align: right;\n",
              "    }\n",
              "</style>\n",
              "<table border=\"1\" class=\"dataframe\">\n",
              "  <thead>\n",
              "    <tr style=\"text-align: right;\">\n",
              "      <th></th>\n",
              "      <th>amount_tsh</th>\n",
              "      <th>date_recorded</th>\n",
              "      <th>funder</th>\n",
              "      <th>gps_height</th>\n",
              "      <th>installer</th>\n",
              "      <th>longitude</th>\n",
              "      <th>latitude</th>\n",
              "      <th>wpt_name</th>\n",
              "      <th>num_private</th>\n",
              "      <th>basin</th>\n",
              "      <th>subvillage</th>\n",
              "      <th>region</th>\n",
              "      <th>region_code</th>\n",
              "      <th>district_code</th>\n",
              "      <th>lga</th>\n",
              "      <th>ward</th>\n",
              "      <th>population</th>\n",
              "      <th>public_meeting</th>\n",
              "      <th>recorded_by</th>\n",
              "      <th>scheme_management</th>\n",
              "      <th>scheme_name</th>\n",
              "      <th>permit</th>\n",
              "      <th>construction_year</th>\n",
              "      <th>extraction_type</th>\n",
              "      <th>extraction_type_group</th>\n",
              "      <th>extraction_type_class</th>\n",
              "      <th>management</th>\n",
              "      <th>management_group</th>\n",
              "      <th>payment</th>\n",
              "      <th>payment_type</th>\n",
              "      <th>water_quality</th>\n",
              "      <th>quality_group</th>\n",
              "      <th>quantity</th>\n",
              "      <th>quantity_group</th>\n",
              "      <th>source</th>\n",
              "      <th>source_type</th>\n",
              "      <th>source_class</th>\n",
              "      <th>waterpoint_type</th>\n",
              "      <th>waterpoint_type_group</th>\n",
              "      <th>year</th>\n",
              "      <th>month</th>\n",
              "      <th>day</th>\n",
              "    </tr>\n",
              "    <tr>\n",
              "      <th>id</th>\n",
              "      <th></th>\n",
              "      <th></th>\n",
              "      <th></th>\n",
              "      <th></th>\n",
              "      <th></th>\n",
              "      <th></th>\n",
              "      <th></th>\n",
              "      <th></th>\n",
              "      <th></th>\n",
              "      <th></th>\n",
              "      <th></th>\n",
              "      <th></th>\n",
              "      <th></th>\n",
              "      <th></th>\n",
              "      <th></th>\n",
              "      <th></th>\n",
              "      <th></th>\n",
              "      <th></th>\n",
              "      <th></th>\n",
              "      <th></th>\n",
              "      <th></th>\n",
              "      <th></th>\n",
              "      <th></th>\n",
              "      <th></th>\n",
              "      <th></th>\n",
              "      <th></th>\n",
              "      <th></th>\n",
              "      <th></th>\n",
              "      <th></th>\n",
              "      <th></th>\n",
              "      <th></th>\n",
              "      <th></th>\n",
              "      <th></th>\n",
              "      <th></th>\n",
              "      <th></th>\n",
              "      <th></th>\n",
              "      <th></th>\n",
              "      <th></th>\n",
              "      <th></th>\n",
              "      <th></th>\n",
              "      <th></th>\n",
              "      <th></th>\n",
              "    </tr>\n",
              "  </thead>\n",
              "  <tbody>\n",
              "    <tr>\n",
              "      <th>69572</th>\n",
              "      <td>6000.000000</td>\n",
              "      <td>2011-03-14</td>\n",
              "      <td>Roman</td>\n",
              "      <td>1390.000000</td>\n",
              "      <td>Roman</td>\n",
              "      <td>34.938093</td>\n",
              "      <td>-9.856322</td>\n",
              "      <td>none</td>\n",
              "      <td>0</td>\n",
              "      <td>Lake Nyasa</td>\n",
              "      <td>Mnyusi B</td>\n",
              "      <td>Iringa</td>\n",
              "      <td>11</td>\n",
              "      <td>5</td>\n",
              "      <td>Ludewa</td>\n",
              "      <td>Mundindi</td>\n",
              "      <td>109.0</td>\n",
              "      <td>True</td>\n",
              "      <td>GeoData Consultants Ltd</td>\n",
              "      <td>VWC</td>\n",
              "      <td>Roman</td>\n",
              "      <td>False</td>\n",
              "      <td>1999.0</td>\n",
              "      <td>gravity</td>\n",
              "      <td>gravity</td>\n",
              "      <td>gravity</td>\n",
              "      <td>vwc</td>\n",
              "      <td>user-group</td>\n",
              "      <td>pay annually</td>\n",
              "      <td>annually</td>\n",
              "      <td>soft</td>\n",
              "      <td>good</td>\n",
              "      <td>enough</td>\n",
              "      <td>enough</td>\n",
              "      <td>spring</td>\n",
              "      <td>spring</td>\n",
              "      <td>groundwater</td>\n",
              "      <td>communal standpipe</td>\n",
              "      <td>communal standpipe</td>\n",
              "      <td>2011</td>\n",
              "      <td>3</td>\n",
              "      <td>14</td>\n",
              "    </tr>\n",
              "    <tr>\n",
              "      <th>8776</th>\n",
              "      <td>584.158038</td>\n",
              "      <td>2013-03-06</td>\n",
              "      <td>Grumeti</td>\n",
              "      <td>1399.000000</td>\n",
              "      <td>GRUMETI</td>\n",
              "      <td>34.698766</td>\n",
              "      <td>-2.147466</td>\n",
              "      <td>Zahanati</td>\n",
              "      <td>0</td>\n",
              "      <td>Lake Victoria</td>\n",
              "      <td>Nyamara</td>\n",
              "      <td>Mara</td>\n",
              "      <td>20</td>\n",
              "      <td>2</td>\n",
              "      <td>Serengeti</td>\n",
              "      <td>Natta</td>\n",
              "      <td>280.0</td>\n",
              "      <td>NaN</td>\n",
              "      <td>GeoData Consultants Ltd</td>\n",
              "      <td>Other</td>\n",
              "      <td>NaN</td>\n",
              "      <td>True</td>\n",
              "      <td>2010.0</td>\n",
              "      <td>gravity</td>\n",
              "      <td>gravity</td>\n",
              "      <td>gravity</td>\n",
              "      <td>wug</td>\n",
              "      <td>user-group</td>\n",
              "      <td>never pay</td>\n",
              "      <td>never pay</td>\n",
              "      <td>soft</td>\n",
              "      <td>good</td>\n",
              "      <td>insufficient</td>\n",
              "      <td>insufficient</td>\n",
              "      <td>rainwater harvesting</td>\n",
              "      <td>rainwater harvesting</td>\n",
              "      <td>surface</td>\n",
              "      <td>communal standpipe</td>\n",
              "      <td>communal standpipe</td>\n",
              "      <td>2013</td>\n",
              "      <td>3</td>\n",
              "      <td>6</td>\n",
              "    </tr>\n",
              "    <tr>\n",
              "      <th>34310</th>\n",
              "      <td>25.000000</td>\n",
              "      <td>2013-02-25</td>\n",
              "      <td>Lottery Club</td>\n",
              "      <td>686.000000</td>\n",
              "      <td>World vision</td>\n",
              "      <td>37.460664</td>\n",
              "      <td>-3.821329</td>\n",
              "      <td>Kwa Mahundi</td>\n",
              "      <td>0</td>\n",
              "      <td>Pangani</td>\n",
              "      <td>Majengo</td>\n",
              "      <td>Manyara</td>\n",
              "      <td>21</td>\n",
              "      <td>4</td>\n",
              "      <td>Simanjiro</td>\n",
              "      <td>Ngorika</td>\n",
              "      <td>250.0</td>\n",
              "      <td>True</td>\n",
              "      <td>GeoData Consultants Ltd</td>\n",
              "      <td>VWC</td>\n",
              "      <td>Nyumba ya mungu pipe scheme</td>\n",
              "      <td>True</td>\n",
              "      <td>2009.0</td>\n",
              "      <td>gravity</td>\n",
              "      <td>gravity</td>\n",
              "      <td>gravity</td>\n",
              "      <td>vwc</td>\n",
              "      <td>user-group</td>\n",
              "      <td>pay per bucket</td>\n",
              "      <td>per bucket</td>\n",
              "      <td>soft</td>\n",
              "      <td>good</td>\n",
              "      <td>enough</td>\n",
              "      <td>enough</td>\n",
              "      <td>dam</td>\n",
              "      <td>dam</td>\n",
              "      <td>surface</td>\n",
              "      <td>communal standpipe multiple</td>\n",
              "      <td>communal standpipe</td>\n",
              "      <td>2013</td>\n",
              "      <td>2</td>\n",
              "      <td>25</td>\n",
              "    </tr>\n",
              "    <tr>\n",
              "      <th>67743</th>\n",
              "      <td>148.481268</td>\n",
              "      <td>2013-01-28</td>\n",
              "      <td>Unicef</td>\n",
              "      <td>263.000000</td>\n",
              "      <td>UNICEF</td>\n",
              "      <td>38.486161</td>\n",
              "      <td>-11.155298</td>\n",
              "      <td>Zahanati Ya Nanyumbu</td>\n",
              "      <td>0</td>\n",
              "      <td>Ruvuma / Southern Coast</td>\n",
              "      <td>Mahakamani</td>\n",
              "      <td>Mtwara</td>\n",
              "      <td>90</td>\n",
              "      <td>63</td>\n",
              "      <td>Nanyumbu</td>\n",
              "      <td>Nanyumbu</td>\n",
              "      <td>58.0</td>\n",
              "      <td>True</td>\n",
              "      <td>GeoData Consultants Ltd</td>\n",
              "      <td>VWC</td>\n",
              "      <td>NaN</td>\n",
              "      <td>True</td>\n",
              "      <td>1986.0</td>\n",
              "      <td>submersible</td>\n",
              "      <td>submersible</td>\n",
              "      <td>submersible</td>\n",
              "      <td>vwc</td>\n",
              "      <td>user-group</td>\n",
              "      <td>never pay</td>\n",
              "      <td>never pay</td>\n",
              "      <td>soft</td>\n",
              "      <td>good</td>\n",
              "      <td>dry</td>\n",
              "      <td>dry</td>\n",
              "      <td>machine dbh</td>\n",
              "      <td>borehole</td>\n",
              "      <td>groundwater</td>\n",
              "      <td>communal standpipe multiple</td>\n",
              "      <td>communal standpipe</td>\n",
              "      <td>2013</td>\n",
              "      <td>1</td>\n",
              "      <td>28</td>\n",
              "    </tr>\n",
              "    <tr>\n",
              "      <th>19728</th>\n",
              "      <td>725.095986</td>\n",
              "      <td>2011-07-13</td>\n",
              "      <td>Action In A</td>\n",
              "      <td>1199.643052</td>\n",
              "      <td>Artisan</td>\n",
              "      <td>31.130847</td>\n",
              "      <td>-1.825359</td>\n",
              "      <td>Shuleni</td>\n",
              "      <td>0</td>\n",
              "      <td>Lake Victoria</td>\n",
              "      <td>Kyanyamisa</td>\n",
              "      <td>Kagera</td>\n",
              "      <td>18</td>\n",
              "      <td>1</td>\n",
              "      <td>Karagwe</td>\n",
              "      <td>Nyakasimbi</td>\n",
              "      <td>200.0</td>\n",
              "      <td>True</td>\n",
              "      <td>GeoData Consultants Ltd</td>\n",
              "      <td>NaN</td>\n",
              "      <td>NaN</td>\n",
              "      <td>True</td>\n",
              "      <td>2000.0</td>\n",
              "      <td>gravity</td>\n",
              "      <td>gravity</td>\n",
              "      <td>gravity</td>\n",
              "      <td>other</td>\n",
              "      <td>other</td>\n",
              "      <td>never pay</td>\n",
              "      <td>never pay</td>\n",
              "      <td>soft</td>\n",
              "      <td>good</td>\n",
              "      <td>seasonal</td>\n",
              "      <td>seasonal</td>\n",
              "      <td>rainwater harvesting</td>\n",
              "      <td>rainwater harvesting</td>\n",
              "      <td>surface</td>\n",
              "      <td>communal standpipe</td>\n",
              "      <td>communal standpipe</td>\n",
              "      <td>2011</td>\n",
              "      <td>7</td>\n",
              "      <td>13</td>\n",
              "    </tr>\n",
              "  </tbody>\n",
              "</table>\n",
              "</div>"
            ],
            "text/plain": [
              "        amount_tsh date_recorded        funder   gps_height     installer  \\\n",
              "id                                                                          \n",
              "69572  6000.000000    2011-03-14         Roman  1390.000000         Roman   \n",
              "8776    584.158038    2013-03-06       Grumeti  1399.000000       GRUMETI   \n",
              "34310    25.000000    2013-02-25  Lottery Club   686.000000  World vision   \n",
              "67743   148.481268    2013-01-28        Unicef   263.000000        UNICEF   \n",
              "19728   725.095986    2011-07-13   Action In A  1199.643052       Artisan   \n",
              "\n",
              "       longitude   latitude              wpt_name  num_private  \\\n",
              "id                                                               \n",
              "69572  34.938093  -9.856322                  none            0   \n",
              "8776   34.698766  -2.147466              Zahanati            0   \n",
              "34310  37.460664  -3.821329           Kwa Mahundi            0   \n",
              "67743  38.486161 -11.155298  Zahanati Ya Nanyumbu            0   \n",
              "19728  31.130847  -1.825359               Shuleni            0   \n",
              "\n",
              "                         basin  subvillage   region  region_code  \\\n",
              "id                                                                 \n",
              "69572               Lake Nyasa    Mnyusi B   Iringa           11   \n",
              "8776             Lake Victoria     Nyamara     Mara           20   \n",
              "34310                  Pangani     Majengo  Manyara           21   \n",
              "67743  Ruvuma / Southern Coast  Mahakamani   Mtwara           90   \n",
              "19728            Lake Victoria  Kyanyamisa   Kagera           18   \n",
              "\n",
              "       district_code        lga        ward  population public_meeting  \\\n",
              "id                                                                       \n",
              "69572              5     Ludewa    Mundindi       109.0           True   \n",
              "8776               2  Serengeti       Natta       280.0            NaN   \n",
              "34310              4  Simanjiro     Ngorika       250.0           True   \n",
              "67743             63   Nanyumbu    Nanyumbu        58.0           True   \n",
              "19728              1    Karagwe  Nyakasimbi       200.0           True   \n",
              "\n",
              "                   recorded_by scheme_management                  scheme_name  \\\n",
              "id                                                                              \n",
              "69572  GeoData Consultants Ltd               VWC                        Roman   \n",
              "8776   GeoData Consultants Ltd             Other                          NaN   \n",
              "34310  GeoData Consultants Ltd               VWC  Nyumba ya mungu pipe scheme   \n",
              "67743  GeoData Consultants Ltd               VWC                          NaN   \n",
              "19728  GeoData Consultants Ltd               NaN                          NaN   \n",
              "\n",
              "      permit  construction_year extraction_type extraction_type_group  \\\n",
              "id                                                                      \n",
              "69572  False             1999.0         gravity               gravity   \n",
              "8776    True             2010.0         gravity               gravity   \n",
              "34310   True             2009.0         gravity               gravity   \n",
              "67743   True             1986.0     submersible           submersible   \n",
              "19728   True             2000.0         gravity               gravity   \n",
              "\n",
              "      extraction_type_class management management_group         payment  \\\n",
              "id                                                                        \n",
              "69572               gravity        vwc       user-group    pay annually   \n",
              "8776                gravity        wug       user-group       never pay   \n",
              "34310               gravity        vwc       user-group  pay per bucket   \n",
              "67743           submersible        vwc       user-group       never pay   \n",
              "19728               gravity      other            other       never pay   \n",
              "\n",
              "      payment_type water_quality quality_group      quantity quantity_group  \\\n",
              "id                                                                            \n",
              "69572     annually          soft          good        enough         enough   \n",
              "8776     never pay          soft          good  insufficient   insufficient   \n",
              "34310   per bucket          soft          good        enough         enough   \n",
              "67743    never pay          soft          good           dry            dry   \n",
              "19728    never pay          soft          good      seasonal       seasonal   \n",
              "\n",
              "                     source           source_type source_class  \\\n",
              "id                                                               \n",
              "69572                spring                spring  groundwater   \n",
              "8776   rainwater harvesting  rainwater harvesting      surface   \n",
              "34310                   dam                   dam      surface   \n",
              "67743           machine dbh              borehole  groundwater   \n",
              "19728  rainwater harvesting  rainwater harvesting      surface   \n",
              "\n",
              "                   waterpoint_type waterpoint_type_group  year  month  day  \n",
              "id                                                                          \n",
              "69572           communal standpipe    communal standpipe  2011      3   14  \n",
              "8776            communal standpipe    communal standpipe  2013      3    6  \n",
              "34310  communal standpipe multiple    communal standpipe  2013      2   25  \n",
              "67743  communal standpipe multiple    communal standpipe  2013      1   28  \n",
              "19728           communal standpipe    communal standpipe  2011      7   13  "
            ]
          },
          "metadata": {
            "tags": []
          },
          "execution_count": 13
        }
      ]
    },
    {
      "cell_type": "markdown",
      "metadata": {
        "id": "9EewSx6wZRhi",
        "colab_type": "text"
      },
      "source": [
        "Data Cleaning for the categorical columns "
      ]
    },
    {
      "cell_type": "code",
      "metadata": {
        "id": "Fvt9MP9ddHMP",
        "colab_type": "code",
        "colab": {}
      },
      "source": [
        "num_cols = ['amount_tsh', 'gps_height', 'longitude', 'latitude', 'num_private','population','construction_year']\n",
        "cat_cols = ['funder','installer','wpt_name','basin', 'subvillage', 'region', 'lga', 'ward','public_meeting', 'recorded_by', 'scheme_management', 'scheme_name', 'permit','extraction_type', 'extraction_type_group', 'extraction_type_class', 'management', 'management_group', 'payment', 'payment_type', 'water_quality', 'quality_group', 'quantity', 'quantity_group', 'source', 'source_type', 'source_class', 'waterpoint_type', 'waterpoint_type_group']"
      ],
      "execution_count": 0,
      "outputs": []
    },
    {
      "cell_type": "code",
      "metadata": {
        "id": "pOZW8uImZGhx",
        "colab_type": "code",
        "colab": {}
      },
      "source": [
        "def clean_cat(df):\n",
        "  df[cat_cols] = df[cat_cols].replace({'0':np.nan, 'not known':np.nan, 'Not Known':np.nan, 'None':np.nan, 'unknown':np.nan, 'none':np.nan, '-':np.nan, '##':np.nan, 'not kno':np.nan, 'Unknown Installer':np.nan})  \n",
        "  for features in cat_cols: \n",
        "    df[cat_cols]=df[cat_cols].fillna(df.mode().iloc[0])\n",
        "  return df\n"
      ],
      "execution_count": 0,
      "outputs": []
    },
    {
      "cell_type": "code",
      "metadata": {
        "id": "NSYYg98fe-4l",
        "colab_type": "code",
        "colab": {}
      },
      "source": [
        "train_copy = clean_cat(train_copy)\n",
        "test_copy = clean_cat(test_copy)"
      ],
      "execution_count": 0,
      "outputs": []
    },
    {
      "cell_type": "code",
      "metadata": {
        "id": "gr9M6xJmcn0o",
        "colab_type": "code",
        "outputId": "5e1722c4-59f8-4661-96b5-ad820cb8ffee",
        "colab": {
          "base_uri": "https://localhost:8080/",
          "height": 729
        }
      },
      "source": [
        "train_copy.head(10)"
      ],
      "execution_count": 0,
      "outputs": [
        {
          "output_type": "execute_result",
          "data": {
            "text/html": [
              "<div>\n",
              "<style scoped>\n",
              "    .dataframe tbody tr th:only-of-type {\n",
              "        vertical-align: middle;\n",
              "    }\n",
              "\n",
              "    .dataframe tbody tr th {\n",
              "        vertical-align: top;\n",
              "    }\n",
              "\n",
              "    .dataframe thead th {\n",
              "        text-align: right;\n",
              "    }\n",
              "</style>\n",
              "<table border=\"1\" class=\"dataframe\">\n",
              "  <thead>\n",
              "    <tr style=\"text-align: right;\">\n",
              "      <th></th>\n",
              "      <th>amount_tsh</th>\n",
              "      <th>date_recorded</th>\n",
              "      <th>funder</th>\n",
              "      <th>gps_height</th>\n",
              "      <th>installer</th>\n",
              "      <th>longitude</th>\n",
              "      <th>latitude</th>\n",
              "      <th>wpt_name</th>\n",
              "      <th>num_private</th>\n",
              "      <th>basin</th>\n",
              "      <th>subvillage</th>\n",
              "      <th>region</th>\n",
              "      <th>region_code</th>\n",
              "      <th>district_code</th>\n",
              "      <th>lga</th>\n",
              "      <th>ward</th>\n",
              "      <th>population</th>\n",
              "      <th>public_meeting</th>\n",
              "      <th>recorded_by</th>\n",
              "      <th>scheme_management</th>\n",
              "      <th>scheme_name</th>\n",
              "      <th>permit</th>\n",
              "      <th>construction_year</th>\n",
              "      <th>extraction_type</th>\n",
              "      <th>extraction_type_group</th>\n",
              "      <th>extraction_type_class</th>\n",
              "      <th>management</th>\n",
              "      <th>management_group</th>\n",
              "      <th>payment</th>\n",
              "      <th>payment_type</th>\n",
              "      <th>water_quality</th>\n",
              "      <th>quality_group</th>\n",
              "      <th>quantity</th>\n",
              "      <th>quantity_group</th>\n",
              "      <th>source</th>\n",
              "      <th>source_type</th>\n",
              "      <th>source_class</th>\n",
              "      <th>waterpoint_type</th>\n",
              "      <th>waterpoint_type_group</th>\n",
              "      <th>year</th>\n",
              "      <th>month</th>\n",
              "      <th>day</th>\n",
              "    </tr>\n",
              "    <tr>\n",
              "      <th>id</th>\n",
              "      <th></th>\n",
              "      <th></th>\n",
              "      <th></th>\n",
              "      <th></th>\n",
              "      <th></th>\n",
              "      <th></th>\n",
              "      <th></th>\n",
              "      <th></th>\n",
              "      <th></th>\n",
              "      <th></th>\n",
              "      <th></th>\n",
              "      <th></th>\n",
              "      <th></th>\n",
              "      <th></th>\n",
              "      <th></th>\n",
              "      <th></th>\n",
              "      <th></th>\n",
              "      <th></th>\n",
              "      <th></th>\n",
              "      <th></th>\n",
              "      <th></th>\n",
              "      <th></th>\n",
              "      <th></th>\n",
              "      <th></th>\n",
              "      <th></th>\n",
              "      <th></th>\n",
              "      <th></th>\n",
              "      <th></th>\n",
              "      <th></th>\n",
              "      <th></th>\n",
              "      <th></th>\n",
              "      <th></th>\n",
              "      <th></th>\n",
              "      <th></th>\n",
              "      <th></th>\n",
              "      <th></th>\n",
              "      <th></th>\n",
              "      <th></th>\n",
              "      <th></th>\n",
              "      <th></th>\n",
              "      <th></th>\n",
              "      <th></th>\n",
              "    </tr>\n",
              "  </thead>\n",
              "  <tbody>\n",
              "    <tr>\n",
              "      <th>69572</th>\n",
              "      <td>6000.000000</td>\n",
              "      <td>2011-03-14</td>\n",
              "      <td>Roman</td>\n",
              "      <td>1390.000000</td>\n",
              "      <td>Roman</td>\n",
              "      <td>34.938093</td>\n",
              "      <td>-9.856322</td>\n",
              "      <td>Shuleni</td>\n",
              "      <td>0</td>\n",
              "      <td>Lake Nyasa</td>\n",
              "      <td>Mnyusi B</td>\n",
              "      <td>Iringa</td>\n",
              "      <td>11</td>\n",
              "      <td>5</td>\n",
              "      <td>Ludewa</td>\n",
              "      <td>Mundindi</td>\n",
              "      <td>109.000000</td>\n",
              "      <td>True</td>\n",
              "      <td>GeoData Consultants Ltd</td>\n",
              "      <td>VWC</td>\n",
              "      <td>Roman</td>\n",
              "      <td>False</td>\n",
              "      <td>1999.000000</td>\n",
              "      <td>gravity</td>\n",
              "      <td>gravity</td>\n",
              "      <td>gravity</td>\n",
              "      <td>vwc</td>\n",
              "      <td>user-group</td>\n",
              "      <td>pay annually</td>\n",
              "      <td>annually</td>\n",
              "      <td>soft</td>\n",
              "      <td>good</td>\n",
              "      <td>enough</td>\n",
              "      <td>enough</td>\n",
              "      <td>spring</td>\n",
              "      <td>spring</td>\n",
              "      <td>groundwater</td>\n",
              "      <td>communal standpipe</td>\n",
              "      <td>communal standpipe</td>\n",
              "      <td>2011</td>\n",
              "      <td>3</td>\n",
              "      <td>14</td>\n",
              "    </tr>\n",
              "    <tr>\n",
              "      <th>8776</th>\n",
              "      <td>584.158038</td>\n",
              "      <td>2013-03-06</td>\n",
              "      <td>Grumeti</td>\n",
              "      <td>1399.000000</td>\n",
              "      <td>GRUMETI</td>\n",
              "      <td>34.698766</td>\n",
              "      <td>-2.147466</td>\n",
              "      <td>Zahanati</td>\n",
              "      <td>0</td>\n",
              "      <td>Lake Victoria</td>\n",
              "      <td>Nyamara</td>\n",
              "      <td>Mara</td>\n",
              "      <td>20</td>\n",
              "      <td>2</td>\n",
              "      <td>Serengeti</td>\n",
              "      <td>Natta</td>\n",
              "      <td>280.000000</td>\n",
              "      <td>True</td>\n",
              "      <td>GeoData Consultants Ltd</td>\n",
              "      <td>Other</td>\n",
              "      <td>K</td>\n",
              "      <td>True</td>\n",
              "      <td>2010.000000</td>\n",
              "      <td>gravity</td>\n",
              "      <td>gravity</td>\n",
              "      <td>gravity</td>\n",
              "      <td>wug</td>\n",
              "      <td>user-group</td>\n",
              "      <td>never pay</td>\n",
              "      <td>never pay</td>\n",
              "      <td>soft</td>\n",
              "      <td>good</td>\n",
              "      <td>insufficient</td>\n",
              "      <td>insufficient</td>\n",
              "      <td>rainwater harvesting</td>\n",
              "      <td>rainwater harvesting</td>\n",
              "      <td>surface</td>\n",
              "      <td>communal standpipe</td>\n",
              "      <td>communal standpipe</td>\n",
              "      <td>2013</td>\n",
              "      <td>3</td>\n",
              "      <td>6</td>\n",
              "    </tr>\n",
              "    <tr>\n",
              "      <th>34310</th>\n",
              "      <td>25.000000</td>\n",
              "      <td>2013-02-25</td>\n",
              "      <td>Lottery Club</td>\n",
              "      <td>686.000000</td>\n",
              "      <td>World vision</td>\n",
              "      <td>37.460664</td>\n",
              "      <td>-3.821329</td>\n",
              "      <td>Kwa Mahundi</td>\n",
              "      <td>0</td>\n",
              "      <td>Pangani</td>\n",
              "      <td>Majengo</td>\n",
              "      <td>Manyara</td>\n",
              "      <td>21</td>\n",
              "      <td>4</td>\n",
              "      <td>Simanjiro</td>\n",
              "      <td>Ngorika</td>\n",
              "      <td>250.000000</td>\n",
              "      <td>True</td>\n",
              "      <td>GeoData Consultants Ltd</td>\n",
              "      <td>VWC</td>\n",
              "      <td>Nyumba ya mungu pipe scheme</td>\n",
              "      <td>True</td>\n",
              "      <td>2009.000000</td>\n",
              "      <td>gravity</td>\n",
              "      <td>gravity</td>\n",
              "      <td>gravity</td>\n",
              "      <td>vwc</td>\n",
              "      <td>user-group</td>\n",
              "      <td>pay per bucket</td>\n",
              "      <td>per bucket</td>\n",
              "      <td>soft</td>\n",
              "      <td>good</td>\n",
              "      <td>enough</td>\n",
              "      <td>enough</td>\n",
              "      <td>dam</td>\n",
              "      <td>dam</td>\n",
              "      <td>surface</td>\n",
              "      <td>communal standpipe multiple</td>\n",
              "      <td>communal standpipe</td>\n",
              "      <td>2013</td>\n",
              "      <td>2</td>\n",
              "      <td>25</td>\n",
              "    </tr>\n",
              "    <tr>\n",
              "      <th>67743</th>\n",
              "      <td>148.481268</td>\n",
              "      <td>2013-01-28</td>\n",
              "      <td>Unicef</td>\n",
              "      <td>263.000000</td>\n",
              "      <td>UNICEF</td>\n",
              "      <td>38.486161</td>\n",
              "      <td>-11.155298</td>\n",
              "      <td>Zahanati Ya Nanyumbu</td>\n",
              "      <td>0</td>\n",
              "      <td>Ruvuma / Southern Coast</td>\n",
              "      <td>Mahakamani</td>\n",
              "      <td>Mtwara</td>\n",
              "      <td>90</td>\n",
              "      <td>63</td>\n",
              "      <td>Nanyumbu</td>\n",
              "      <td>Nanyumbu</td>\n",
              "      <td>58.000000</td>\n",
              "      <td>True</td>\n",
              "      <td>GeoData Consultants Ltd</td>\n",
              "      <td>VWC</td>\n",
              "      <td>K</td>\n",
              "      <td>True</td>\n",
              "      <td>1986.000000</td>\n",
              "      <td>submersible</td>\n",
              "      <td>submersible</td>\n",
              "      <td>submersible</td>\n",
              "      <td>vwc</td>\n",
              "      <td>user-group</td>\n",
              "      <td>never pay</td>\n",
              "      <td>never pay</td>\n",
              "      <td>soft</td>\n",
              "      <td>good</td>\n",
              "      <td>dry</td>\n",
              "      <td>dry</td>\n",
              "      <td>machine dbh</td>\n",
              "      <td>borehole</td>\n",
              "      <td>groundwater</td>\n",
              "      <td>communal standpipe multiple</td>\n",
              "      <td>communal standpipe</td>\n",
              "      <td>2013</td>\n",
              "      <td>1</td>\n",
              "      <td>28</td>\n",
              "    </tr>\n",
              "    <tr>\n",
              "      <th>19728</th>\n",
              "      <td>725.095986</td>\n",
              "      <td>2011-07-13</td>\n",
              "      <td>Action In A</td>\n",
              "      <td>1199.643052</td>\n",
              "      <td>Artisan</td>\n",
              "      <td>31.130847</td>\n",
              "      <td>-1.825359</td>\n",
              "      <td>Shuleni</td>\n",
              "      <td>0</td>\n",
              "      <td>Lake Victoria</td>\n",
              "      <td>Kyanyamisa</td>\n",
              "      <td>Kagera</td>\n",
              "      <td>18</td>\n",
              "      <td>1</td>\n",
              "      <td>Karagwe</td>\n",
              "      <td>Nyakasimbi</td>\n",
              "      <td>200.000000</td>\n",
              "      <td>True</td>\n",
              "      <td>GeoData Consultants Ltd</td>\n",
              "      <td>VWC</td>\n",
              "      <td>K</td>\n",
              "      <td>True</td>\n",
              "      <td>2000.000000</td>\n",
              "      <td>gravity</td>\n",
              "      <td>gravity</td>\n",
              "      <td>gravity</td>\n",
              "      <td>other</td>\n",
              "      <td>other</td>\n",
              "      <td>never pay</td>\n",
              "      <td>never pay</td>\n",
              "      <td>soft</td>\n",
              "      <td>good</td>\n",
              "      <td>seasonal</td>\n",
              "      <td>seasonal</td>\n",
              "      <td>rainwater harvesting</td>\n",
              "      <td>rainwater harvesting</td>\n",
              "      <td>surface</td>\n",
              "      <td>communal standpipe</td>\n",
              "      <td>communal standpipe</td>\n",
              "      <td>2011</td>\n",
              "      <td>7</td>\n",
              "      <td>13</td>\n",
              "    </tr>\n",
              "    <tr>\n",
              "      <th>9944</th>\n",
              "      <td>20.000000</td>\n",
              "      <td>2011-03-13</td>\n",
              "      <td>Mkinga Distric Coun</td>\n",
              "      <td>667.914800</td>\n",
              "      <td>DWE</td>\n",
              "      <td>39.172796</td>\n",
              "      <td>-4.765587</td>\n",
              "      <td>Tajiri</td>\n",
              "      <td>0</td>\n",
              "      <td>Pangani</td>\n",
              "      <td>Moa/Mwereme</td>\n",
              "      <td>Tanga</td>\n",
              "      <td>4</td>\n",
              "      <td>8</td>\n",
              "      <td>Mkinga</td>\n",
              "      <td>Moa</td>\n",
              "      <td>1.000000</td>\n",
              "      <td>True</td>\n",
              "      <td>GeoData Consultants Ltd</td>\n",
              "      <td>VWC</td>\n",
              "      <td>Zingibali</td>\n",
              "      <td>True</td>\n",
              "      <td>2009.000000</td>\n",
              "      <td>submersible</td>\n",
              "      <td>submersible</td>\n",
              "      <td>submersible</td>\n",
              "      <td>vwc</td>\n",
              "      <td>user-group</td>\n",
              "      <td>pay per bucket</td>\n",
              "      <td>per bucket</td>\n",
              "      <td>salty</td>\n",
              "      <td>salty</td>\n",
              "      <td>enough</td>\n",
              "      <td>enough</td>\n",
              "      <td>other</td>\n",
              "      <td>other</td>\n",
              "      <td>groundwater</td>\n",
              "      <td>communal standpipe multiple</td>\n",
              "      <td>communal standpipe</td>\n",
              "      <td>2011</td>\n",
              "      <td>3</td>\n",
              "      <td>13</td>\n",
              "    </tr>\n",
              "    <tr>\n",
              "      <th>19816</th>\n",
              "      <td>3746.666667</td>\n",
              "      <td>2012-10-01</td>\n",
              "      <td>Dwsp</td>\n",
              "      <td>1350.981707</td>\n",
              "      <td>DWSP</td>\n",
              "      <td>33.362410</td>\n",
              "      <td>-3.766365</td>\n",
              "      <td>Kwa Ngomho</td>\n",
              "      <td>0</td>\n",
              "      <td>Internal</td>\n",
              "      <td>Ishinabulandi</td>\n",
              "      <td>Shinyanga</td>\n",
              "      <td>17</td>\n",
              "      <td>3</td>\n",
              "      <td>Shinyanga Rural</td>\n",
              "      <td>Samuye</td>\n",
              "      <td>428.359756</td>\n",
              "      <td>True</td>\n",
              "      <td>GeoData Consultants Ltd</td>\n",
              "      <td>VWC</td>\n",
              "      <td>K</td>\n",
              "      <td>True</td>\n",
              "      <td>2002.621951</td>\n",
              "      <td>swn 80</td>\n",
              "      <td>swn 80</td>\n",
              "      <td>handpump</td>\n",
              "      <td>vwc</td>\n",
              "      <td>user-group</td>\n",
              "      <td>never pay</td>\n",
              "      <td>never pay</td>\n",
              "      <td>soft</td>\n",
              "      <td>good</td>\n",
              "      <td>enough</td>\n",
              "      <td>enough</td>\n",
              "      <td>machine dbh</td>\n",
              "      <td>borehole</td>\n",
              "      <td>groundwater</td>\n",
              "      <td>hand pump</td>\n",
              "      <td>hand pump</td>\n",
              "      <td>2012</td>\n",
              "      <td>10</td>\n",
              "      <td>1</td>\n",
              "    </tr>\n",
              "    <tr>\n",
              "      <th>54551</th>\n",
              "      <td>3746.666667</td>\n",
              "      <td>2012-10-09</td>\n",
              "      <td>Rwssp</td>\n",
              "      <td>1350.981707</td>\n",
              "      <td>DWE</td>\n",
              "      <td>32.620617</td>\n",
              "      <td>-4.226198</td>\n",
              "      <td>Tushirikiane</td>\n",
              "      <td>0</td>\n",
              "      <td>Lake Tanganyika</td>\n",
              "      <td>Nyawishi Center</td>\n",
              "      <td>Shinyanga</td>\n",
              "      <td>17</td>\n",
              "      <td>3</td>\n",
              "      <td>Kahama</td>\n",
              "      <td>Chambo</td>\n",
              "      <td>428.359756</td>\n",
              "      <td>True</td>\n",
              "      <td>GeoData Consultants Ltd</td>\n",
              "      <td>VWC</td>\n",
              "      <td>K</td>\n",
              "      <td>True</td>\n",
              "      <td>2002.621951</td>\n",
              "      <td>nira/tanira</td>\n",
              "      <td>nira/tanira</td>\n",
              "      <td>handpump</td>\n",
              "      <td>wug</td>\n",
              "      <td>user-group</td>\n",
              "      <td>never pay</td>\n",
              "      <td>never pay</td>\n",
              "      <td>milky</td>\n",
              "      <td>milky</td>\n",
              "      <td>enough</td>\n",
              "      <td>enough</td>\n",
              "      <td>shallow well</td>\n",
              "      <td>shallow well</td>\n",
              "      <td>groundwater</td>\n",
              "      <td>hand pump</td>\n",
              "      <td>hand pump</td>\n",
              "      <td>2012</td>\n",
              "      <td>10</td>\n",
              "      <td>9</td>\n",
              "    </tr>\n",
              "    <tr>\n",
              "      <th>53934</th>\n",
              "      <td>725.095986</td>\n",
              "      <td>2012-11-03</td>\n",
              "      <td>Wateraid</td>\n",
              "      <td>1199.643052</td>\n",
              "      <td>Water Aid</td>\n",
              "      <td>32.711100</td>\n",
              "      <td>-5.146712</td>\n",
              "      <td>Kwa Ramadhan Musa</td>\n",
              "      <td>0</td>\n",
              "      <td>Lake Tanganyika</td>\n",
              "      <td>Imalauduki</td>\n",
              "      <td>Tabora</td>\n",
              "      <td>14</td>\n",
              "      <td>6</td>\n",
              "      <td>Tabora Urban</td>\n",
              "      <td>Itetemia</td>\n",
              "      <td>200.000000</td>\n",
              "      <td>True</td>\n",
              "      <td>GeoData Consultants Ltd</td>\n",
              "      <td>VWC</td>\n",
              "      <td>K</td>\n",
              "      <td>True</td>\n",
              "      <td>2000.000000</td>\n",
              "      <td>india mark ii</td>\n",
              "      <td>india mark ii</td>\n",
              "      <td>handpump</td>\n",
              "      <td>vwc</td>\n",
              "      <td>user-group</td>\n",
              "      <td>never pay</td>\n",
              "      <td>never pay</td>\n",
              "      <td>salty</td>\n",
              "      <td>salty</td>\n",
              "      <td>seasonal</td>\n",
              "      <td>seasonal</td>\n",
              "      <td>machine dbh</td>\n",
              "      <td>borehole</td>\n",
              "      <td>groundwater</td>\n",
              "      <td>hand pump</td>\n",
              "      <td>hand pump</td>\n",
              "      <td>2012</td>\n",
              "      <td>11</td>\n",
              "      <td>3</td>\n",
              "    </tr>\n",
              "    <tr>\n",
              "      <th>46144</th>\n",
              "      <td>725.095986</td>\n",
              "      <td>2011-08-03</td>\n",
              "      <td>Isingiro Ho</td>\n",
              "      <td>1199.643052</td>\n",
              "      <td>Artisan</td>\n",
              "      <td>30.626991</td>\n",
              "      <td>-1.257051</td>\n",
              "      <td>Kwapeto</td>\n",
              "      <td>0</td>\n",
              "      <td>Lake Victoria</td>\n",
              "      <td>Mkonomre</td>\n",
              "      <td>Kagera</td>\n",
              "      <td>18</td>\n",
              "      <td>1</td>\n",
              "      <td>Karagwe</td>\n",
              "      <td>Kaisho</td>\n",
              "      <td>200.000000</td>\n",
              "      <td>True</td>\n",
              "      <td>GeoData Consultants Ltd</td>\n",
              "      <td>VWC</td>\n",
              "      <td>K</td>\n",
              "      <td>True</td>\n",
              "      <td>2000.000000</td>\n",
              "      <td>nira/tanira</td>\n",
              "      <td>nira/tanira</td>\n",
              "      <td>handpump</td>\n",
              "      <td>vwc</td>\n",
              "      <td>user-group</td>\n",
              "      <td>never pay</td>\n",
              "      <td>never pay</td>\n",
              "      <td>soft</td>\n",
              "      <td>good</td>\n",
              "      <td>enough</td>\n",
              "      <td>enough</td>\n",
              "      <td>shallow well</td>\n",
              "      <td>shallow well</td>\n",
              "      <td>groundwater</td>\n",
              "      <td>hand pump</td>\n",
              "      <td>hand pump</td>\n",
              "      <td>2011</td>\n",
              "      <td>8</td>\n",
              "      <td>3</td>\n",
              "    </tr>\n",
              "  </tbody>\n",
              "</table>\n",
              "</div>"
            ],
            "text/plain": [
              "        amount_tsh date_recorded               funder   gps_height  \\\n",
              "id                                                                   \n",
              "69572  6000.000000    2011-03-14                Roman  1390.000000   \n",
              "8776    584.158038    2013-03-06              Grumeti  1399.000000   \n",
              "34310    25.000000    2013-02-25         Lottery Club   686.000000   \n",
              "67743   148.481268    2013-01-28               Unicef   263.000000   \n",
              "19728   725.095986    2011-07-13          Action In A  1199.643052   \n",
              "9944     20.000000    2011-03-13  Mkinga Distric Coun   667.914800   \n",
              "19816  3746.666667    2012-10-01                 Dwsp  1350.981707   \n",
              "54551  3746.666667    2012-10-09                Rwssp  1350.981707   \n",
              "53934   725.095986    2012-11-03             Wateraid  1199.643052   \n",
              "46144   725.095986    2011-08-03          Isingiro Ho  1199.643052   \n",
              "\n",
              "          installer  longitude   latitude              wpt_name  num_private  \\\n",
              "id                                                                             \n",
              "69572         Roman  34.938093  -9.856322               Shuleni            0   \n",
              "8776        GRUMETI  34.698766  -2.147466              Zahanati            0   \n",
              "34310  World vision  37.460664  -3.821329           Kwa Mahundi            0   \n",
              "67743        UNICEF  38.486161 -11.155298  Zahanati Ya Nanyumbu            0   \n",
              "19728       Artisan  31.130847  -1.825359               Shuleni            0   \n",
              "9944            DWE  39.172796  -4.765587                Tajiri            0   \n",
              "19816          DWSP  33.362410  -3.766365            Kwa Ngomho            0   \n",
              "54551           DWE  32.620617  -4.226198          Tushirikiane            0   \n",
              "53934     Water Aid  32.711100  -5.146712     Kwa Ramadhan Musa            0   \n",
              "46144       Artisan  30.626991  -1.257051               Kwapeto            0   \n",
              "\n",
              "                         basin       subvillage     region  region_code  \\\n",
              "id                                                                        \n",
              "69572               Lake Nyasa         Mnyusi B     Iringa           11   \n",
              "8776             Lake Victoria          Nyamara       Mara           20   \n",
              "34310                  Pangani          Majengo    Manyara           21   \n",
              "67743  Ruvuma / Southern Coast       Mahakamani     Mtwara           90   \n",
              "19728            Lake Victoria       Kyanyamisa     Kagera           18   \n",
              "9944                   Pangani      Moa/Mwereme      Tanga            4   \n",
              "19816                 Internal    Ishinabulandi  Shinyanga           17   \n",
              "54551          Lake Tanganyika  Nyawishi Center  Shinyanga           17   \n",
              "53934          Lake Tanganyika       Imalauduki     Tabora           14   \n",
              "46144            Lake Victoria         Mkonomre     Kagera           18   \n",
              "\n",
              "       district_code              lga        ward  population  public_meeting  \\\n",
              "id                                                                              \n",
              "69572              5           Ludewa    Mundindi  109.000000            True   \n",
              "8776               2        Serengeti       Natta  280.000000            True   \n",
              "34310              4        Simanjiro     Ngorika  250.000000            True   \n",
              "67743             63         Nanyumbu    Nanyumbu   58.000000            True   \n",
              "19728              1          Karagwe  Nyakasimbi  200.000000            True   \n",
              "9944               8           Mkinga         Moa    1.000000            True   \n",
              "19816              3  Shinyanga Rural      Samuye  428.359756            True   \n",
              "54551              3           Kahama      Chambo  428.359756            True   \n",
              "53934              6     Tabora Urban    Itetemia  200.000000            True   \n",
              "46144              1          Karagwe      Kaisho  200.000000            True   \n",
              "\n",
              "                   recorded_by scheme_management                  scheme_name  \\\n",
              "id                                                                              \n",
              "69572  GeoData Consultants Ltd               VWC                        Roman   \n",
              "8776   GeoData Consultants Ltd             Other                            K   \n",
              "34310  GeoData Consultants Ltd               VWC  Nyumba ya mungu pipe scheme   \n",
              "67743  GeoData Consultants Ltd               VWC                            K   \n",
              "19728  GeoData Consultants Ltd               VWC                            K   \n",
              "9944   GeoData Consultants Ltd               VWC                    Zingibali   \n",
              "19816  GeoData Consultants Ltd               VWC                            K   \n",
              "54551  GeoData Consultants Ltd               VWC                            K   \n",
              "53934  GeoData Consultants Ltd               VWC                            K   \n",
              "46144  GeoData Consultants Ltd               VWC                            K   \n",
              "\n",
              "       permit  construction_year extraction_type extraction_type_group  \\\n",
              "id                                                                       \n",
              "69572   False        1999.000000         gravity               gravity   \n",
              "8776     True        2010.000000         gravity               gravity   \n",
              "34310    True        2009.000000         gravity               gravity   \n",
              "67743    True        1986.000000     submersible           submersible   \n",
              "19728    True        2000.000000         gravity               gravity   \n",
              "9944     True        2009.000000     submersible           submersible   \n",
              "19816    True        2002.621951          swn 80                swn 80   \n",
              "54551    True        2002.621951     nira/tanira           nira/tanira   \n",
              "53934    True        2000.000000   india mark ii         india mark ii   \n",
              "46144    True        2000.000000     nira/tanira           nira/tanira   \n",
              "\n",
              "      extraction_type_class management management_group         payment  \\\n",
              "id                                                                        \n",
              "69572               gravity        vwc       user-group    pay annually   \n",
              "8776                gravity        wug       user-group       never pay   \n",
              "34310               gravity        vwc       user-group  pay per bucket   \n",
              "67743           submersible        vwc       user-group       never pay   \n",
              "19728               gravity      other            other       never pay   \n",
              "9944            submersible        vwc       user-group  pay per bucket   \n",
              "19816              handpump        vwc       user-group       never pay   \n",
              "54551              handpump        wug       user-group       never pay   \n",
              "53934              handpump        vwc       user-group       never pay   \n",
              "46144              handpump        vwc       user-group       never pay   \n",
              "\n",
              "      payment_type water_quality quality_group      quantity quantity_group  \\\n",
              "id                                                                            \n",
              "69572     annually          soft          good        enough         enough   \n",
              "8776     never pay          soft          good  insufficient   insufficient   \n",
              "34310   per bucket          soft          good        enough         enough   \n",
              "67743    never pay          soft          good           dry            dry   \n",
              "19728    never pay          soft          good      seasonal       seasonal   \n",
              "9944    per bucket         salty         salty        enough         enough   \n",
              "19816    never pay          soft          good        enough         enough   \n",
              "54551    never pay         milky         milky        enough         enough   \n",
              "53934    never pay         salty         salty      seasonal       seasonal   \n",
              "46144    never pay          soft          good        enough         enough   \n",
              "\n",
              "                     source           source_type source_class  \\\n",
              "id                                                               \n",
              "69572                spring                spring  groundwater   \n",
              "8776   rainwater harvesting  rainwater harvesting      surface   \n",
              "34310                   dam                   dam      surface   \n",
              "67743           machine dbh              borehole  groundwater   \n",
              "19728  rainwater harvesting  rainwater harvesting      surface   \n",
              "9944                  other                 other  groundwater   \n",
              "19816           machine dbh              borehole  groundwater   \n",
              "54551          shallow well          shallow well  groundwater   \n",
              "53934           machine dbh              borehole  groundwater   \n",
              "46144          shallow well          shallow well  groundwater   \n",
              "\n",
              "                   waterpoint_type waterpoint_type_group  year  month  day  \n",
              "id                                                                          \n",
              "69572           communal standpipe    communal standpipe  2011      3   14  \n",
              "8776            communal standpipe    communal standpipe  2013      3    6  \n",
              "34310  communal standpipe multiple    communal standpipe  2013      2   25  \n",
              "67743  communal standpipe multiple    communal standpipe  2013      1   28  \n",
              "19728           communal standpipe    communal standpipe  2011      7   13  \n",
              "9944   communal standpipe multiple    communal standpipe  2011      3   13  \n",
              "19816                    hand pump             hand pump  2012     10    1  \n",
              "54551                    hand pump             hand pump  2012     10    9  \n",
              "53934                    hand pump             hand pump  2012     11    3  \n",
              "46144                    hand pump             hand pump  2011      8    3  "
            ]
          },
          "metadata": {
            "tags": []
          },
          "execution_count": 17
        }
      ]
    },
    {
      "cell_type": "code",
      "metadata": {
        "id": "xtg3CbLojCq2",
        "colab_type": "code",
        "colab": {}
      },
      "source": [
        "def dropping_off (df):\n",
        "  drop_cols = ['longitude','latitude','num_private','ward','recorded_by',\n",
        "              'extraction_type_group','extraction_type_class',\n",
        "              'region_code','waterpoint_type_group','source_type',\n",
        "             'payment_type','quality_group','quantity_group','date_recorded']\n",
        "  df= df.drop(drop_cols,axis=1)\n",
        "  return df"
      ],
      "execution_count": 0,
      "outputs": []
    },
    {
      "cell_type": "code",
      "metadata": {
        "id": "nJ1_AOhwmp0Y",
        "colab_type": "code",
        "colab": {}
      },
      "source": [
        "train_copy = dropping_off(train_copy)\n",
        "test_copy =  dropping_off(test_copy)  "
      ],
      "execution_count": 0,
      "outputs": []
    },
    {
      "cell_type": "code",
      "metadata": {
        "id": "kLLXVs97tKu9",
        "colab_type": "code",
        "colab": {}
      },
      "source": [
        "  #numer_feat = ['amount_tsh','gps_height','num_private','population','construction_year']\n",
        "  #scaler =  MinMaxScaler()\n",
        "  #train_copy[numer_feat] = scaler.fit_transform(train_copy[numer_feat])\n",
        "  #test_copy[numer_feat]  = scaler.transform(test_copy[numer_feat])"
      ],
      "execution_count": 0,
      "outputs": []
    },
    {
      "cell_type": "code",
      "metadata": {
        "id": "PoueCs6Pw6Qn",
        "colab_type": "code",
        "outputId": "fef799e4-cfce-4f43-aa41-850196eac79c",
        "colab": {
          "base_uri": "https://localhost:8080/",
          "height": 52
        }
      },
      "source": [
        "print(\"Training shape before dummifying\",train_copy.shape)\n",
        "print(\"Test set shape before dummifying\",test_copy.shape)"
      ],
      "execution_count": 0,
      "outputs": [
        {
          "output_type": "stream",
          "text": [
            "Training shape before dummifying (59400, 28)\n",
            "Test set shape before dummifying (14850, 28)\n"
          ],
          "name": "stdout"
        }
      ]
    },
    {
      "cell_type": "code",
      "metadata": {
        "id": "_hfoNzVoBJwx",
        "colab_type": "code",
        "outputId": "47ec5493-4350-42fa-cbd9-b4973522b660",
        "colab": {
          "base_uri": "https://localhost:8080/",
          "height": 1000
        }
      },
      "source": [
        "feature_info(train_copy)\n",
        "feature_info(test_copy)"
      ],
      "execution_count": 0,
      "outputs": [
        {
          "output_type": "stream",
          "text": [
            "Unique values in the feature:\n",
            "amount_tsh             114\n",
            "funder                1894\n",
            "gps_height            2435\n",
            "installer             2140\n",
            "wpt_name             37397\n",
            "basin                    9\n",
            "subvillage           19286\n",
            "region                  21\n",
            "district_code           20\n",
            "lga                    125\n",
            "population            1057\n",
            "public_meeting           2\n",
            "scheme_management       11\n",
            "scheme_name           2693\n",
            "permit                   2\n",
            "construction_year       71\n",
            "extraction_type         18\n",
            "management              11\n",
            "management_group         4\n",
            "payment                  6\n",
            "water_quality            7\n",
            "quantity                 4\n",
            "source                   9\n",
            "source_class             2\n",
            "waterpoint_type          7\n",
            "year                     5\n",
            "month                   12\n",
            "day                     31\n",
            "dtype: int64\n",
            "No of Null values:\n",
            "amount_tsh           0\n",
            "funder               0\n",
            "gps_height           0\n",
            "installer            0\n",
            "wpt_name             0\n",
            "basin                0\n",
            "subvillage           0\n",
            "region               0\n",
            "district_code        0\n",
            "lga                  0\n",
            "population           0\n",
            "public_meeting       0\n",
            "scheme_management    0\n",
            "scheme_name          0\n",
            "permit               0\n",
            "construction_year    0\n",
            "extraction_type      0\n",
            "management           0\n",
            "management_group     0\n",
            "payment              0\n",
            "water_quality        0\n",
            "quantity             0\n",
            "source               0\n",
            "source_class         0\n",
            "waterpoint_type      0\n",
            "year                 0\n",
            "month                0\n",
            "day                  0\n",
            "dtype: int64\n",
            "Unique values in the feature:\n",
            "amount_tsh              83\n",
            "funder                 977\n",
            "gps_height            2163\n",
            "installer             1089\n",
            "wpt_name             10838\n",
            "basin                    9\n",
            "subvillage            8443\n",
            "region                  21\n",
            "district_code           20\n",
            "lga                    125\n",
            "population             642\n",
            "public_meeting           2\n",
            "scheme_management       11\n",
            "scheme_name           1786\n",
            "permit                   2\n",
            "construction_year       70\n",
            "extraction_type         17\n",
            "management              11\n",
            "management_group         4\n",
            "payment                  6\n",
            "water_quality            7\n",
            "quantity                 4\n",
            "source                   9\n",
            "source_class             2\n",
            "waterpoint_type          7\n",
            "year                     5\n",
            "month                   12\n",
            "day                     31\n",
            "dtype: int64\n",
            "No of Null values:\n",
            "amount_tsh           0\n",
            "funder               0\n",
            "gps_height           0\n",
            "installer            0\n",
            "wpt_name             0\n",
            "basin                0\n",
            "subvillage           0\n",
            "region               0\n",
            "district_code        0\n",
            "lga                  0\n",
            "population           0\n",
            "public_meeting       0\n",
            "scheme_management    0\n",
            "scheme_name          0\n",
            "permit               0\n",
            "construction_year    0\n",
            "extraction_type      0\n",
            "management           0\n",
            "management_group     0\n",
            "payment              0\n",
            "water_quality        0\n",
            "quantity             0\n",
            "source               0\n",
            "source_class         0\n",
            "waterpoint_type      0\n",
            "year                 0\n",
            "month                0\n",
            "day                  0\n",
            "dtype: int64\n"
          ],
          "name": "stdout"
        }
      ]
    },
    {
      "cell_type": "code",
      "metadata": {
        "id": "VAnyKcdiU3f0",
        "colab_type": "code",
        "colab": {}
      },
      "source": [
        "y_train = target_df['status_group']"
      ],
      "execution_count": 0,
      "outputs": []
    },
    {
      "cell_type": "code",
      "metadata": {
        "id": "LAQxyj_LnTDk",
        "colab_type": "code",
        "outputId": "c6a48a37-a883-4085-83d5-d994c4e390fb",
        "colab": {
          "base_uri": "https://localhost:8080/",
          "height": 721
        }
      },
      "source": [
        "cat_cols_updated = ['funder','installer','wpt_name','basin', 'subvillage', 'region', 'lga','public_meeting','scheme_management', 'scheme_name', 'permit','extraction_type', 'management', 'management_group', 'payment', 'water_quality','quantity', 'source','source_class', 'waterpoint_type']\n",
        "for col in cat_cols_updated:\n",
        "  print (col, train_copy[col].nunique())\n",
        "  print (col, test_copy[col].nunique())"
      ],
      "execution_count": 0,
      "outputs": [
        {
          "output_type": "stream",
          "text": [
            "funder 1894\n",
            "funder 977\n",
            "installer 2140\n",
            "installer 1089\n",
            "wpt_name 37397\n",
            "wpt_name 10838\n",
            "basin 9\n",
            "basin 9\n",
            "subvillage 19286\n",
            "subvillage 8443\n",
            "region 21\n",
            "region 21\n",
            "lga 125\n",
            "lga 125\n",
            "public_meeting 2\n",
            "public_meeting 2\n",
            "scheme_management 11\n",
            "scheme_management 11\n",
            "scheme_name 2693\n",
            "scheme_name 1786\n",
            "permit 2\n",
            "permit 2\n",
            "extraction_type 18\n",
            "extraction_type 17\n",
            "management 11\n",
            "management 11\n",
            "management_group 4\n",
            "management_group 4\n",
            "payment 6\n",
            "payment 6\n",
            "water_quality 7\n",
            "water_quality 7\n",
            "quantity 4\n",
            "quantity 4\n",
            "source 9\n",
            "source 9\n",
            "source_class 2\n",
            "source_class 2\n",
            "waterpoint_type 7\n",
            "waterpoint_type 7\n"
          ],
          "name": "stdout"
        }
      ]
    },
    {
      "cell_type": "markdown",
      "metadata": {
        "id": "kiYQ5BbYVz9O",
        "colab_type": "text"
      },
      "source": [
        "'funder','installer','subvillage','wpt_name','scheme_name','lga' these are the columns which have high cardinality so we can then transform least frequent columns into 'other' category. \n"
      ]
    },
    {
      "cell_type": "markdown",
      "metadata": {
        "id": "vPRwbh4hW3yi",
        "colab_type": "text"
      },
      "source": [
        "Transforming the column 'funder'"
      ]
    },
    {
      "cell_type": "code",
      "metadata": {
        "id": "GIL5uWMtNg1N",
        "colab_type": "code",
        "outputId": "ecd791d0-fb2b-4240-dc5d-06380569b073",
        "colab": {
          "base_uri": "https://localhost:8080/",
          "height": 210
        }
      },
      "source": [
        "train_copy.funder.value_counts().head(10)"
      ],
      "execution_count": 0,
      "outputs": [
        {
          "output_type": "execute_result",
          "data": {
            "text/plain": [
              "Government Of Tanzania    13525\n",
              "Danida                     3114\n",
              "Hesawa                     2202\n",
              "Rwssp                      1374\n",
              "World Bank                 1349\n",
              "Kkkt                       1287\n",
              "World Vision               1246\n",
              "Unicef                     1057\n",
              "Tasaf                       877\n",
              "District Council            843\n",
              "Name: funder, dtype: int64"
            ]
          },
          "metadata": {
            "tags": []
          },
          "execution_count": 25
        }
      ]
    },
    {
      "cell_type": "code",
      "metadata": {
        "id": "R_NlS6fUX4oY",
        "colab_type": "code",
        "colab": {}
      },
      "source": [
        "def funder_cl(row):  \n",
        "    if row['funder']=='Government Of Tanzania':\n",
        "        return 'gov'\n",
        "    elif row['funder']=='Danida':\n",
        "        return 'danida'\n",
        "    elif row['funder']=='Hesawa':\n",
        "        return 'hesawa'\n",
        "    elif row['funder']=='Rwssp':\n",
        "        return 'rwssp'\n",
        "    elif row['funder']=='World Bank':\n",
        "        return 'world_bank'    \n",
        "    elif row['funder']=='Kkkt':\n",
        "        return 'Kkkt'\n",
        "    elif row['funder']=='World Vision':\n",
        "        return 'World Vision'\n",
        "    elif row['funder']=='Unicef':\n",
        "        return 'Unicef'\n",
        "    elif row['funder']=='Tasaf':\n",
        "        return 'Tasaf'\n",
        "    elif row['funder']=='District Council':\n",
        "        return 'District Council'\n",
        "    else:\n",
        "        return 'other'\n",
        "    \n",
        "train_copy['funder'] = train_copy.apply(lambda row: funder_cl(row), axis=1)\n",
        "test_copy['funder'] = test_copy.apply(lambda row: funder_cl(row), axis=1)"
      ],
      "execution_count": 0,
      "outputs": []
    },
    {
      "cell_type": "markdown",
      "metadata": {
        "id": "b9tiwV_-Qo1b",
        "colab_type": "text"
      },
      "source": [
        "transforming the column installer"
      ]
    },
    {
      "cell_type": "code",
      "metadata": {
        "id": "D_yDUPACQnWk",
        "colab_type": "code",
        "outputId": "5b564685-11e1-445a-81dd-7fa23413f232",
        "colab": {
          "base_uri": "https://localhost:8080/",
          "height": 210
        }
      },
      "source": [
        "train_copy.installer.value_counts().head(10)"
      ],
      "execution_count": 0,
      "outputs": [
        {
          "output_type": "execute_result",
          "data": {
            "text/plain": [
              "DWE                   21863\n",
              "Government             1825\n",
              "RWE                    1206\n",
              "Commu                  1060\n",
              "DANIDA                 1050\n",
              "KKKT                    898\n",
              "Hesawa                  840\n",
              "TCRS                    707\n",
              "Central government      622\n",
              "CES                     610\n",
              "Name: installer, dtype: int64"
            ]
          },
          "metadata": {
            "tags": []
          },
          "execution_count": 27
        }
      ]
    },
    {
      "cell_type": "code",
      "metadata": {
        "id": "H1vzHyseQ0yA",
        "colab_type": "code",
        "colab": {}
      },
      "source": [
        "def installer_cl(row):  \n",
        "    if row['installer']=='DWE':\n",
        "        return 'dwe'\n",
        "    elif row['installer']=='Government':\n",
        "        return 'gov'\n",
        "    elif row['installer']=='RWE':\n",
        "        return 'rwe'\n",
        "    elif row['installer']=='Commu':\n",
        "        return 'commu'\n",
        "    elif row['installer']=='DANIDA':\n",
        "        return 'danida'    \n",
        "    elif row['installer']=='Kkkt':\n",
        "        return 'Kkkt'\n",
        "    elif row['installer']=='Hesawa':\n",
        "        return 'hesawa'\n",
        "    elif row['installer']=='TCRS':\n",
        "        return 'tcrs'\n",
        "    elif row['installer']=='Central Government':\n",
        "        return 'central gov'\n",
        "    elif row['installer']=='CES':\n",
        "        return 'ces'\n",
        "    else:\n",
        "        return 'other'\n",
        "    \n",
        "train_copy['installer'] = train_copy.apply(lambda row: installer_cl(row), axis=1)\n",
        "test_copy['installer'] = test_copy.apply(lambda row: installer_cl(row), axis=1)"
      ],
      "execution_count": 0,
      "outputs": []
    },
    {
      "cell_type": "markdown",
      "metadata": {
        "id": "RIpK7dHCS3uZ",
        "colab_type": "text"
      },
      "source": [
        "Transforming wpt_name column"
      ]
    },
    {
      "cell_type": "code",
      "metadata": {
        "id": "nz-R2A8_S3dW",
        "colab_type": "code",
        "outputId": "4fa9e408-81d4-4088-ed9b-d97a70f12119",
        "colab": {
          "base_uri": "https://localhost:8080/",
          "height": 210
        }
      },
      "source": [
        "train_copy.wpt_name.value_counts().head(10)"
      ],
      "execution_count": 0,
      "outputs": [
        {
          "output_type": "execute_result",
          "data": {
            "text/plain": [
              "Shuleni            5333\n",
              "Zahanati            830\n",
              "Msikitini           535\n",
              "Kanisani            323\n",
              "Bombani             271\n",
              "Sokoni              260\n",
              "Ofisini             254\n",
              "School              208\n",
              "Shule Ya Msingi     199\n",
              "Shule               152\n",
              "Name: wpt_name, dtype: int64"
            ]
          },
          "metadata": {
            "tags": []
          },
          "execution_count": 29
        }
      ]
    },
    {
      "cell_type": "code",
      "metadata": {
        "id": "t65T9rDAWPjD",
        "colab_type": "code",
        "colab": {}
      },
      "source": [
        "def wpt_name_cl(row):  \n",
        "    if row['wpt_name']=='Shuleni':\n",
        "        return 'shuleni'\n",
        "    elif row['wpt_name']=='Zahanati':\n",
        "        return 'zahanati'\n",
        "    elif row['wpt_name']=='Msikitini':\n",
        "        return 'msikitini'\n",
        "    elif row['wpt_name']=='Kanisani':\n",
        "        return 'kanisani'\n",
        "    elif row['wpt_name']=='Bombani':\n",
        "        return 'bombani'    \n",
        "    elif row['wpt_name']=='Sokoni':\n",
        "        return 'sokoni'\n",
        "    elif row['wpt_name']=='Ofisini':\n",
        "        return 'Ofisini'\n",
        "    elif row['wpt_name']=='School':\n",
        "        return 'school'\n",
        "    elif row['wpt_name']=='Shule Ya Msingi':\n",
        "        return 'shule ya msingi'\n",
        "    elif row['wpt_name']=='shule':\n",
        "        return 'shule'\n",
        "    else:\n",
        "        return 'other'\n",
        "    \n",
        "train_copy['wpt_name'] = train_copy.apply(lambda row: wpt_name_cl(row), axis=1)\n",
        "test_copy['wpt_name'] = test_copy.apply(lambda row: wpt_name_cl(row), axis=1)"
      ],
      "execution_count": 0,
      "outputs": []
    },
    {
      "cell_type": "markdown",
      "metadata": {
        "id": "ymXNu7qrXDkr",
        "colab_type": "text"
      },
      "source": [
        "Transforming Sub-Village"
      ]
    },
    {
      "cell_type": "code",
      "metadata": {
        "id": "_9FXPgewZh4R",
        "colab_type": "code",
        "outputId": "21f37547-6935-41a1-92d5-a75363c37e70",
        "colab": {
          "base_uri": "https://localhost:8080/",
          "height": 210
        }
      },
      "source": [
        "train_copy.subvillage.value_counts().head(10)"
      ],
      "execution_count": 0,
      "outputs": [
        {
          "output_type": "execute_result",
          "data": {
            "text/plain": [
              "Madukani    880\n",
              "Shuleni     506\n",
              "Majengo     502\n",
              "Kati        373\n",
              "Mtakuja     262\n",
              "Sokoni      232\n",
              "M           187\n",
              "Muungano    172\n",
              "Mbuyuni     164\n",
              "Mlimani     152\n",
              "Name: subvillage, dtype: int64"
            ]
          },
          "metadata": {
            "tags": []
          },
          "execution_count": 31
        }
      ]
    },
    {
      "cell_type": "code",
      "metadata": {
        "id": "-tJMC5zEXDRp",
        "colab_type": "code",
        "colab": {}
      },
      "source": [
        "def subvillage_cl(row):  \n",
        "    if row['subvillage']=='Madukani':\n",
        "        return 'madukani'\n",
        "    elif row['subvillage']=='Shuleni':\n",
        "        return 'shuleni'\n",
        "    elif row['subvillage']=='Majengo':\n",
        "        return 'majengo'\n",
        "    elif row['subvillage']=='Kati':\n",
        "        return 'kati'\n",
        "    elif row['subvillage']=='Mtakuja':\n",
        "        return 'Mtakuja'    \n",
        "    elif row['subvillage']=='Sokoni':\n",
        "        return 'sokoni'\n",
        "    elif row['subvillage']=='M':\n",
        "        return 'm'\n",
        "    elif row['subvillage']=='Muungano':\n",
        "        return 'muungano'\n",
        "    elif row['subvillage']=='Mbuyuni':\n",
        "        return 'mbuyuni'\n",
        "    elif row['subvillage']=='Mlimani':\n",
        "        return 'mlimani'\n",
        "    else:\n",
        "        return 'other'\n",
        "    \n",
        "train_copy['subvillage'] = train_copy.apply(lambda row: subvillage_cl(row), axis=1)\n",
        "test_copy['subvillage'] = test_copy.apply(lambda row: subvillage_cl(row), axis=1)"
      ],
      "execution_count": 0,
      "outputs": []
    },
    {
      "cell_type": "markdown",
      "metadata": {
        "id": "WYAoyXtRbmiB",
        "colab_type": "text"
      },
      "source": [
        "Transforming last column"
      ]
    },
    {
      "cell_type": "code",
      "metadata": {
        "id": "4sQ_W7qmbuSv",
        "colab_type": "code",
        "outputId": "6d72f82c-2f6c-48fb-e736-c0f2f3ef9dca",
        "colab": {
          "base_uri": "https://localhost:8080/",
          "height": 210
        }
      },
      "source": [
        "train_copy.scheme_name.value_counts().head(10)"
      ],
      "execution_count": 0,
      "outputs": [
        {
          "output_type": "execute_result",
          "data": {
            "text/plain": [
              "K                              29525\n",
              "Borehole                         546\n",
              "Chalinze wate                    405\n",
              "M                                400\n",
              "DANIDA                           379\n",
              "Government                       320\n",
              "Ngana water supplied scheme      270\n",
              "wanging'ombe water supply s      261\n",
              "wanging'ombe supply scheme       234\n",
              "I                                229\n",
              "Name: scheme_name, dtype: int64"
            ]
          },
          "metadata": {
            "tags": []
          },
          "execution_count": 33
        }
      ]
    },
    {
      "cell_type": "code",
      "metadata": {
        "id": "KilHBbZJc_qe",
        "colab_type": "code",
        "colab": {}
      },
      "source": [
        "def scheme_name_cl(row):  \n",
        "    if row['scheme_name']=='K':\n",
        "        return 'k'\n",
        "    elif row['scheme_name']=='Borehole':\n",
        "        return 'borehole'\n",
        "    elif row['scheme_name']=='Chalinze wate':\n",
        "        return 'chalinze wate'\n",
        "    elif row['scheme_name']=='M':\n",
        "        return 'm'\n",
        "    elif row['scheme_name']=='DANIDA':\n",
        "        return 'danida'    \n",
        "    elif row['scheme_name']=='Government':\n",
        "        return 'gov'\n",
        "    elif row['scheme_name']=='Ngana water supplied scheme':\n",
        "        return 'ngana'\n",
        "    elif row['scheme_name']==\"wanging'ombe water supply s\":\n",
        "        return \"wanging'ombe water supply s\"\n",
        "    elif row['scheme_name']==\"wanging'ombe supply scheme\":\n",
        "        return \"wanging'ombe supply scheme\"\n",
        "    elif row['scheme_name']=='I':\n",
        "        return 'i'\n",
        "    else:\n",
        "        return 'other'\n",
        "    \n",
        "train_copy['scheme_name'] = train_copy.apply(lambda row: scheme_name_cl(row), axis=1)\n",
        "test_copy['scheme_name'] = test_copy.apply(lambda row: scheme_name_cl(row), axis=1)"
      ],
      "execution_count": 0,
      "outputs": []
    },
    {
      "cell_type": "markdown",
      "metadata": {
        "id": "WcHzAIfuhcxR",
        "colab_type": "text"
      },
      "source": [
        "Transforming the 'lga' column"
      ]
    },
    {
      "cell_type": "code",
      "metadata": {
        "id": "R5cTCgW9hQEs",
        "colab_type": "code",
        "outputId": "692223e8-24e2-421d-bc2f-d211a87258d3",
        "colab": {
          "base_uri": "https://localhost:8080/",
          "height": 210
        }
      },
      "source": [
        "train_copy.lga.value_counts().head(10)"
      ],
      "execution_count": 0,
      "outputs": [
        {
          "output_type": "execute_result",
          "data": {
            "text/plain": [
              "Njombe          2503\n",
              "Arusha Rural    1252\n",
              "Moshi Rural     1251\n",
              "Bariadi         1177\n",
              "Rungwe          1106\n",
              "Kilosa          1094\n",
              "Kasulu          1047\n",
              "Mbozi           1034\n",
              "Meru            1009\n",
              "Bagamoyo         997\n",
              "Name: lga, dtype: int64"
            ]
          },
          "metadata": {
            "tags": []
          },
          "execution_count": 35
        }
      ]
    },
    {
      "cell_type": "code",
      "metadata": {
        "id": "3pmSTgm_hlBV",
        "colab_type": "code",
        "colab": {}
      },
      "source": [
        "def lga_cl(row):  \n",
        "    if row['lga']=='Njombe':\n",
        "        return 'njombe'\n",
        "    elif row['lga']=='Arusha Rural':\n",
        "        return 'arusha'\n",
        "    elif row['lga']=='Moshi Rural':\n",
        "        return 'moshi'\n",
        "    elif row['lga']=='Bariadi':\n",
        "        return 'bariadi'\n",
        "    elif row['lga']=='Rungwe':\n",
        "        return 'rungwe'    \n",
        "    elif row['lga']=='Kilosa':\n",
        "        return 'kilosa'\n",
        "    elif row['lga']=='Kasulu':\n",
        "        return 'kasulu'\n",
        "    elif row['lga']==\"Mbozi\":\n",
        "        return \"mbozi\"\n",
        "    elif row['lga']==\"Meru\":\n",
        "        return \"meru\"\n",
        "    elif row['lga']=='Bagamoyo':\n",
        "        return 'bagamoyo'\n",
        "    else:\n",
        "        return 'other'\n",
        "    \n",
        "train_copy['lga'] = train_copy.apply(lambda row: lga_cl(row), axis=1)\n",
        "test_copy['lga'] = test_copy.apply(lambda row: lga_cl(row), axis=1)"
      ],
      "execution_count": 0,
      "outputs": []
    },
    {
      "cell_type": "code",
      "metadata": {
        "id": "2B_LDl6u8Ypj",
        "colab_type": "code",
        "outputId": "15a2b76c-8201-409d-c38b-697bae047f83",
        "colab": {
          "base_uri": "https://localhost:8080/",
          "height": 52
        }
      },
      "source": [
        "print(\"The shape of training set after dropping high cardinality columns\",train_copy.shape)\n",
        "print(\"The shape of test set after dropping high cardinality columns\",test_copy.shape)"
      ],
      "execution_count": 0,
      "outputs": [
        {
          "output_type": "stream",
          "text": [
            "The shape of training set after dropping high cardinality columns (59400, 28)\n",
            "The shape of test set after dropping high cardinality columns (14850, 28)\n"
          ],
          "name": "stdout"
        }
      ]
    },
    {
      "cell_type": "code",
      "metadata": {
        "id": "JdYkxKfN-6sz",
        "colab_type": "code",
        "outputId": "1007b923-b493-4f6c-a7ea-1aa9181f320e",
        "colab": {
          "base_uri": "https://localhost:8080/",
          "height": 140
        }
      },
      "source": [
        "train_copy.columns"
      ],
      "execution_count": 0,
      "outputs": [
        {
          "output_type": "execute_result",
          "data": {
            "text/plain": [
              "Index(['amount_tsh', 'funder', 'gps_height', 'installer', 'wpt_name', 'basin',\n",
              "       'subvillage', 'region', 'district_code', 'lga', 'population',\n",
              "       'public_meeting', 'scheme_management', 'scheme_name', 'permit',\n",
              "       'construction_year', 'extraction_type', 'management',\n",
              "       'management_group', 'payment', 'water_quality', 'quantity', 'source',\n",
              "       'source_class', 'waterpoint_type', 'year', 'month', 'day'],\n",
              "      dtype='object')"
            ]
          },
          "metadata": {
            "tags": []
          },
          "execution_count": 38
        }
      ]
    },
    {
      "cell_type": "code",
      "metadata": {
        "id": "TW_222-Mmyow",
        "colab_type": "code",
        "colab": {}
      },
      "source": [
        "categorial_cols = ['funder','installer','wpt_name','subvillage','basin', 'region','lga', 'public_meeting',\n",
        "       'scheme_management', 'permit', 'extraction_type','scheme_name',\n",
        "       'management', 'management_group', 'payment', 'water_quality',\n",
        "       'quantity', 'source', 'source_class', 'waterpoint_type']\n",
        "def dummies(data):\n",
        "  for cc in categorial_cols:\n",
        "    dummies = pd.get_dummies(data[cc])\n",
        "    dummies = dummies.add_prefix(\"{}#\".format(cc))\n",
        "    data.drop(cc, axis=1, inplace=True)\n",
        "    data = data.join(dummies)\n",
        "  return data"
      ],
      "execution_count": 0,
      "outputs": []
    },
    {
      "cell_type": "code",
      "metadata": {
        "id": "9NpgzJb_l8IX",
        "colab_type": "code",
        "colab": {}
      },
      "source": [
        "train_copy = dummies(train_copy)\n",
        "test_copy = dummies(test_copy)"
      ],
      "execution_count": 0,
      "outputs": []
    },
    {
      "cell_type": "code",
      "metadata": {
        "id": "mtrxU0By_jeU",
        "colab_type": "code",
        "outputId": "ad6e4b78-293b-4c6c-f35d-f2ead0807661",
        "colab": {
          "base_uri": "https://localhost:8080/",
          "height": 52
        }
      },
      "source": [
        "print(\"The shape of training set after dropping high cardinality columns\",train_copy.shape)\n",
        "print(\"The shape of test set after dropping high cardinality columns\", test_copy.shape)"
      ],
      "execution_count": 0,
      "outputs": [
        {
          "output_type": "stream",
          "text": [
            "The shape of training set after dropping high cardinality columns (59400, 186)\n",
            "The shape of test set after dropping high cardinality columns (14850, 185)\n"
          ],
          "name": "stdout"
        }
      ]
    },
    {
      "cell_type": "markdown",
      "metadata": {
        "id": "iS11H2UwD2cX",
        "colab_type": "text"
      },
      "source": [
        "There is a mismatch between the number of columns so I will go ahead and remove the columns which arent there in both."
      ]
    },
    {
      "cell_type": "code",
      "metadata": {
        "id": "3o2vjei2VNU8",
        "colab_type": "code",
        "colab": {}
      },
      "source": [
        "x = list(train_copy.columns)\n",
        "y = list(test_copy.columns)"
      ],
      "execution_count": 0,
      "outputs": []
    },
    {
      "cell_type": "code",
      "metadata": {
        "id": "ud5-XHwl_s6k",
        "colab_type": "code",
        "colab": {}
      },
      "source": [
        "def mismatch(x,y):\n",
        "  tr=[]\n",
        "  te=[]\n",
        "  for i in range(0,len(x)) :\n",
        "    if x[i] not in y:\n",
        "      tr.append(x[i])\n",
        "  for j in range(0,len(y)) :\n",
        "    if y[j] not in x:\n",
        "      te.append(y[j])\n",
        "  return tr,te\n",
        "\n",
        "list_tr,list_te = mismatch(x,y)"
      ],
      "execution_count": 0,
      "outputs": []
    },
    {
      "cell_type": "code",
      "metadata": {
        "id": "EEWQoTY7SdMv",
        "colab_type": "code",
        "colab": {}
      },
      "source": [
        "train_copy =  train_copy.drop(list_tr,axis=1)\n",
        "test_copy = test_copy.drop(list_te,axis=1)"
      ],
      "execution_count": 0,
      "outputs": []
    },
    {
      "cell_type": "code",
      "metadata": {
        "id": "2ZOi58IvVwak",
        "colab_type": "code",
        "outputId": "8bc4e7f4-8f1c-46fb-c2fc-9f1a9916c3fc",
        "colab": {
          "base_uri": "https://localhost:8080/",
          "height": 34
        }
      },
      "source": [
        "c = list(train_copy.columns.values)\n",
        "d = list(test_copy.columns.values)\n",
        "\n",
        "c == d"
      ],
      "execution_count": 0,
      "outputs": [
        {
          "output_type": "execute_result",
          "data": {
            "text/plain": [
              "True"
            ]
          },
          "metadata": {
            "tags": []
          },
          "execution_count": 45
        }
      ]
    },
    {
      "cell_type": "code",
      "metadata": {
        "id": "Qx87bmnhmyJy",
        "colab_type": "code",
        "outputId": "200feb78-a2ae-40f2-916f-7fb25f66f188",
        "colab": {
          "base_uri": "https://localhost:8080/",
          "height": 52
        }
      },
      "source": [
        "print(\"The shape of training set \",train_copy.shape)\n",
        "print(\"The shape of test set \", test_copy.shape)"
      ],
      "execution_count": 0,
      "outputs": [
        {
          "output_type": "stream",
          "text": [
            "The shape of training set  (59400, 185)\n",
            "The shape of test set  (14850, 185)\n"
          ],
          "name": "stdout"
        }
      ]
    },
    {
      "cell_type": "code",
      "metadata": {
        "id": "HtOSTiXWlsMA",
        "colab_type": "code",
        "colab": {}
      },
      "source": [
        "train_copy.to_csv(\"training.csv\",index=True)\n",
        "test_copy.to_csv(\"test.csv\",index=True)"
      ],
      "execution_count": 0,
      "outputs": []
    },
    {
      "cell_type": "code",
      "metadata": {
        "id": "NE_5Ze5Jm2Eq",
        "colab_type": "code",
        "colab": {}
      },
      "source": [
        ""
      ],
      "execution_count": 0,
      "outputs": []
    }
  ]
}