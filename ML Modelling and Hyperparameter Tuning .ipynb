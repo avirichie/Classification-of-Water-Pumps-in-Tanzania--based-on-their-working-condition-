{
 "cells": [
  {
   "cell_type": "code",
   "execution_count": 44,
   "metadata": {},
   "outputs": [
    {
     "name": "stdout",
     "output_type": "stream",
     "text": [
      "Requirement already satisfied: xgboost in c:\\users\\avina\\anaconda3\\envs\\tf-gpu\\lib\\site-packages (1.1.1)\n",
      "Requirement already satisfied: numpy in c:\\users\\avina\\anaconda3\\envs\\tf-gpu\\lib\\site-packages (from xgboost) (1.18.5)\n",
      "Requirement already satisfied: scipy in c:\\users\\avina\\anaconda3\\envs\\tf-gpu\\lib\\site-packages (from xgboost) (1.5.0)\n"
     ]
    }
   ],
   "source": [
    "import sys\n",
    "!{sys.executable} -m pip install xgboost"
   ]
  },
  {
   "cell_type": "code",
   "execution_count": 29,
   "metadata": {},
   "outputs": [
    {
     "name": "stdout",
     "output_type": "stream",
     "text": [
      "Collecting scikit-optimize\n",
      "  Using cached scikit_optimize-0.7.4-py2.py3-none-any.whl (80 kB)\n",
      "Collecting pyaml>=16.9\n",
      "  Using cached pyaml-20.4.0-py2.py3-none-any.whl (17 kB)\n",
      "Requirement already satisfied: scikit-learn>=0.19.1 in c:\\users\\avina\\appdata\\roaming\\python\\python37\\site-packages (from scikit-optimize) (0.22.2.post1)\n",
      "Requirement already satisfied: numpy>=1.11.0 in c:\\users\\avina\\anaconda3\\envs\\tf-gpu\\lib\\site-packages (from scikit-optimize) (1.18.5)\n",
      "Requirement already satisfied: joblib>=0.11 in c:\\users\\avina\\appdata\\roaming\\python\\python37\\site-packages (from scikit-optimize) (0.15.1)\n",
      "Requirement already satisfied: scipy>=0.18.0 in c:\\users\\avina\\anaconda3\\envs\\tf-gpu\\lib\\site-packages (from scikit-optimize) (1.5.0)\n",
      "Collecting PyYAML\n",
      "  Using cached PyYAML-5.3.1-cp37-cp37m-win_amd64.whl (216 kB)\n",
      "Installing collected packages: PyYAML, pyaml, scikit-optimize\n",
      "Successfully installed PyYAML-5.3.1 pyaml-20.4.0 scikit-optimize-0.7.4\n"
     ]
    }
   ],
   "source": [
    "import sys\n",
    "!{sys.executable} -m pip install scikit-optimize"
   ]
  },
  {
   "cell_type": "code",
   "execution_count": 1,
   "metadata": {},
   "outputs": [],
   "source": [
    "import pandas as pd\n",
    "import numpy as np\n",
    "import matplotlib.pyplot as plt\n",
    "import seaborn as sns\n",
    "from sklearn.base import BaseEstimator, TransformerMixin\n",
    "from sklearn.preprocessing import LabelEncoder\n",
    "from sklearn.metrics import confusion_matrix\n",
    "from sklearn.linear_model import LogisticRegression\n",
    "from sklearn.ensemble import RandomForestClassifier\n",
    "from sklearn.ensemble import AdaBoostClassifier\n",
    "from sklearn.ensemble import GradientBoostingClassifier\n",
    "from sklearn.linear_model import SGDClassifier\n",
    "import xgboost \n",
    "from sklearn.neighbors import KNeighborsClassifier\n",
    "from sklearn.svm import SVC\n",
    "from sklearn.ensemble import VotingClassifier\n",
    "from sklearn.tree import DecisionTreeClassifier\n",
    "from sklearn.model_selection import GridSearchCV\n",
    "from sklearn.model_selection import cross_val_score\n",
    "from sklearn.model_selection import cross_validate\n",
    "from sklearn.model_selection import cross_val_predict\n",
    "from sklearn.model_selection import KFold,StratifiedKFold\n",
    "from sklearn import preprocessing\n",
    "from functools import partial\n",
    "from skopt import space\n",
    "from skopt import gp_minimize\n",
    "from hyperopt import hp,fmin,tpe,Trials\n",
    "from hyperopt.pyll import scope as ho_scope\n",
    "from hyperopt.pyll.stochastic import sample as ho_sample\n",
    "import pickle"
   ]
  },
  {
   "cell_type": "code",
   "execution_count": 2,
   "metadata": {},
   "outputs": [],
   "source": [
    "if __name__ == \"__main__\":\n",
    "    X_train = np.loadtxt(open(\"X_train.csv\",\"rb\"),delimiter=\",\")\n",
    "    X_test = np.loadtxt(open(\"X_test.csv\",\"rb\"),delimiter=\",\")\n",
    "    labels = pd.read_csv(\"Training set labels.csv\")\n",
    "    submission_fr = pd.read_csv(\"SubmissionFormat.csv\")\n",
    "    \n",
    "    y_train = labels.status_group.values"
   ]
  },
  {
   "cell_type": "markdown",
   "metadata": {},
   "source": [
    "**Creating some baseline model without any kind hyperparameter tuning that predicts only one class**"
   ]
  },
  {
   "cell_type": "code",
   "execution_count": 5,
   "metadata": {},
   "outputs": [],
   "source": [
    "class BaslineModel(BaseEstimator):\n",
    "    def fit(self,X,y=None):\n",
    "        pass\n",
    "    def predict(self,X):\n",
    "        return ['functional'] * len(X)"
   ]
  },
  {
   "cell_type": "code",
   "execution_count": 7,
   "metadata": {},
   "outputs": [
    {
     "name": "stdout",
     "output_type": "stream",
     "text": [
      "Waste Model\n",
      "CV accuracy: 0.543 +/- 0.000\n",
      "----------------\n",
      "SGD Classifier\n",
      "CV accuracy: 0.731 +/- 0.006\n",
      "----------------\n",
      "Knn Classifier\n",
      "CV accuracy: 0.777 +/- 0.005\n",
      "----------------\n",
      "Decision Tree Classifier\n",
      "CV accuracy: 0.727 +/- 0.005\n",
      "----------------\n",
      "Random Forest Classifier\n",
      "CV accuracy: 0.781 +/- 0.007\n",
      "----------------\n",
      "Ada Boost Classifier\n",
      "CV accuracy: 0.697 +/- 0.004\n",
      "----------------\n",
      "Softmax Classifier\n",
      "CV accuracy: 0.736 +/- 0.007\n",
      "----------------\n",
      "Gradient Boost Classifier\n",
      "CV accuracy: 0.752 +/- 0.006\n",
      "----------------\n"
     ]
    }
   ],
   "source": [
    "models = { \"Waste Model\" : BaslineModel(),\n",
    "           \"SGD Classifier\" : SGDClassifier(),\n",
    "           \"Knn Classifier\" : KNeighborsClassifier(),\n",
    "           \"Decision Tree Classifier\" : DecisionTreeClassifier(),\n",
    "           \"Random Forest Classifier\" : RandomForestClassifier(),\n",
    "           \"Ada Boost Classifier\" : AdaBoostClassifier(algorithm=\"SAMME.R\"),\n",
    "           \"Softmax Classifier\" : LogisticRegression(multi_class=\"multinomial\",solver=\"lbfgs\"),\n",
    "           \"Gradient Boost Classifier\" : GradientBoostingClassifier()\n",
    "}\n",
    "\n",
    "cv = StratifiedKFold(n_splits=10)\n",
    "results = []\n",
    "names = []\n",
    "\n",
    "for key,value in models.items():\n",
    "    cv_scores = cross_val_score(estimator=value,X=X_train,y=y_train,cv = cv, n_jobs=1,scoring='accuracy')\n",
    "    \n",
    "    results.append(cv_scores)\n",
    "    names.append(key)\n",
    "    \n",
    "    print(key)\n",
    "    print('CV accuracy: %.3f +/- %.3f' % (np.mean(cv_scores), np.std(cv_scores)))\n",
    "    print('----------------')"
   ]
  },
  {
   "cell_type": "code",
   "execution_count": 9,
   "metadata": {},
   "outputs": [
    {
     "data": {
      "image/png": "[encoded data removed]",
      "text/plain": [
       "<Figure size 1296x864 with 1 Axes>"
      ]
     },
     "metadata": {
      "needs_background": "light"
     },
     "output_type": "display_data"
    }
   ],
   "source": [
    "%matplotlib inline\n",
    "fig = plt.figure(figsize=(18,12))\n",
    "fig.suptitle(\"Algorithm computation\")\n",
    "ax = fig.add_subplot(111)\n",
    "plt.boxplot(results)\n",
    "ax.set_xticklabels(names)\n",
    "plt.show()"
   ]
  },
  {
   "cell_type": "code",
   "execution_count": 5,
   "metadata": {},
   "outputs": [
    {
     "data": {
      "text/plain": [
       "array([0.77606061, 0.77919192, 0.77575758])"
      ]
     },
     "execution_count": 5,
     "metadata": {},
     "output_type": "execute_result"
    }
   ],
   "source": [
    "rf = RandomForestClassifier()\n",
    "cross_val_score(rf, X_train, y_train, cv=StratifiedKFold(n_splits=3), scoring=\"accuracy\")"
   ]
  },
  {
   "cell_type": "code",
   "execution_count": 6,
   "metadata": {},
   "outputs": [],
   "source": [
    "y_train_pred = cross_val_predict(rf, X_train, y_train, cv=StratifiedKFold(n_splits=3))"
   ]
  },
  {
   "cell_type": "code",
   "execution_count": 19,
   "metadata": {},
   "outputs": [
    {
     "data": {
      "image/png": "[encoded data removed]",
      "text/plain": [
       "<Figure size 576x576 with 1 Axes>"
      ]
     },
     "metadata": {
      "needs_background": "light"
     },
     "output_type": "display_data"
    }
   ],
   "source": [
    "#Print the Confusion Matrix\n",
    "conf_mx = confusion_matrix(y_train, y_train_pred)\n",
    "\n",
    "fig, ax = plt.subplots(figsize=(8, 8))\n",
    "ax.matshow(conf_mx, cmap=plt.cm.Blues, alpha=0.3)\n",
    "for i in range(conf_mx.shape[0]):\n",
    "    for j in range(conf_mx.shape[1]):\n",
    "        perc = str(round((conf_mx[i, j]/conf_mx.sum())*100,2)) + \"%\"\n",
    "        ax.text(x=j, y=i, s=str(conf_mx[i, j])+\"\\n\\n\"+perc, va='center', ha='center')\n",
    "\n",
    "plt.xlabel('predicted label')\n",
    "plt.ylabel('true label')\n",
    "\n",
    "plt.tight_layout()\n",
    "plt.show()"
   ]
  },
  {
   "cell_type": "markdown",
   "metadata": {},
   "source": [
    "**Trying to Optimize the Random Forest Model with Baeysian Optimization with gaussian process**"
   ]
  },
  {
   "cell_type": "code",
   "execution_count": 4,
   "metadata": {},
   "outputs": [],
   "source": [
    "#Creating a optimize callable function to be fed to sklearn.gpminimize and it takes a single list of parameters and it returns a value\n",
    "def optimize(params,param_names,x,y):\n",
    "    params = dict(zip(param_names,params)) \n",
    "    model = RandomForestClassifier(**params) #It takes the params as parameter\n",
    "    kf = StratifiedKFold(n_splits=5)\n",
    "    accuracies = []\n",
    "    \n",
    "    return -np.mean(cross_val_score(model, X_train, y_train, cv=StratifiedKFold(n_splits=3),n_jobs=-1, scoring=\"accuracy\"))"
   ]
  },
  {
   "cell_type": "code",
   "execution_count": 5,
   "metadata": {},
   "outputs": [],
   "source": [
    "param_space = [\n",
    "    space.Integer(30,60,name=\"max_depth\"),\n",
    "    space.Integer(100,300,name=\"n_estimators\"),\n",
    "    space.Categorical([\"gini\",\"entropy\"],name=\"criterion\"),\n",
    "    space.Real(0.01,1,prior=\"uniform\",name=\"max_features\"),\n",
    "    space.Integer(1,10,name=\"min_samples_leaf\")\n",
    "]\n",
    "param_names = [\"max_depth\",\"n_estimators\",\"criterion\",\"max_features\"]\n",
    "optimization_function = partial(optimize,param_names= param_names,x = X_train,y = y_train)"
   ]
  },
  {
   "cell_type": "code",
   "execution_count": 6,
   "metadata": {},
   "outputs": [
    {
     "name": "stdout",
     "output_type": "stream",
     "text": [
      "Iteration No: 1 started. Evaluating function at random point.\n",
      "Iteration No: 1 ended. Evaluation done at random point.\n",
      "Time taken: 508.4996\n",
      "Function value obtained: -0.7774\n",
      "Current minimum: -0.7774\n",
      "Iteration No: 2 started. Evaluating function at random point.\n",
      "Iteration No: 2 ended. Evaluation done at random point.\n",
      "Time taken: 1003.3217\n",
      "Function value obtained: -0.7773\n",
      "Current minimum: -0.7774\n",
      "Iteration No: 3 started. Evaluating function at random point.\n",
      "Iteration No: 3 ended. Evaluation done at random point.\n",
      "Time taken: 430.9926\n",
      "Function value obtained: -0.7781\n",
      "Current minimum: -0.7781\n",
      "Iteration No: 4 started. Evaluating function at random point.\n",
      "Iteration No: 4 ended. Evaluation done at random point.\n",
      "Time taken: 370.7828\n",
      "Function value obtained: -0.7755\n",
      "Current minimum: -0.7781\n",
      "Iteration No: 5 started. Evaluating function at random point.\n",
      "Iteration No: 5 ended. Evaluation done at random point.\n",
      "Time taken: 482.4592\n",
      "Function value obtained: -0.7748\n",
      "Current minimum: -0.7781\n",
      "Iteration No: 6 started. Evaluating function at random point.\n",
      "Iteration No: 6 ended. Evaluation done at random point.\n",
      "Time taken: 736.1530\n",
      "Function value obtained: -0.7788\n",
      "Current minimum: -0.7788\n",
      "Iteration No: 7 started. Evaluating function at random point.\n",
      "Iteration No: 7 ended. Evaluation done at random point.\n",
      "Time taken: 162.5046\n",
      "Function value obtained: -0.7778\n",
      "Current minimum: -0.7788\n",
      "Iteration No: 8 started. Evaluating function at random point.\n",
      "Iteration No: 8 ended. Evaluation done at random point.\n",
      "Time taken: 730.7393\n",
      "Function value obtained: -0.7785\n",
      "Current minimum: -0.7788\n",
      "Iteration No: 9 started. Evaluating function at random point.\n",
      "Iteration No: 9 ended. Evaluation done at random point.\n",
      "Time taken: 6.9430\n",
      "Function value obtained: -0.7724\n",
      "Current minimum: -0.7788\n",
      "Iteration No: 10 started. Evaluating function at random point.\n",
      "Iteration No: 10 ended. Evaluation done at random point.\n",
      "Time taken: 725.1311\n",
      "Function value obtained: -0.7766\n",
      "Current minimum: -0.7788\n"
     ]
    }
   ],
   "source": [
    "result = gp_minimize(optimization_function,dimensions=param_space,n_calls=10,verbose=10)"
   ]
  },
  {
   "cell_type": "code",
   "execution_count": 7,
   "metadata": {},
   "outputs": [
    {
     "name": "stdout",
     "output_type": "stream",
     "text": [
      "Best Score = -0.7788\n"
     ]
    }
   ],
   "source": [
    "print(\"Best Score = %.4f\" % result.fun)"
   ]
  },
  {
   "cell_type": "code",
   "execution_count": 16,
   "metadata": {},
   "outputs": [
    {
     "data": {
      "text/plain": [
       "{'max_depth': 52,\n",
       " 'n_estimators': 271,\n",
       " 'criterion': 'gini',\n",
       " 'max_features': 0.5783538396142335}"
      ]
     },
     "execution_count": 16,
     "metadata": {},
     "output_type": "execute_result"
    }
   ],
   "source": [
    "rf_params = dict(zip(param_names,result.x))\n",
    "rf_params"
   ]
  },
  {
   "cell_type": "code",
   "execution_count": 58,
   "metadata": {},
   "outputs": [],
   "source": [
    "pickle.dump(result, open('bayessian_optimization_rf.sav', 'wb'))"
   ]
  },
  {
   "cell_type": "code",
   "execution_count": 13,
   "metadata": {},
   "outputs": [
    {
     "data": {
      "text/plain": [
       "[52, 271, 'gini', 0.5783538396142335, 7]"
      ]
     },
     "execution_count": 13,
     "metadata": {},
     "output_type": "execute_result"
    }
   ],
   "source": [
    "result.x"
   ]
  },
  {
   "cell_type": "markdown",
   "metadata": {},
   "source": [
    "#### SGD Classifier"
   ]
  },
  {
   "cell_type": "code",
   "execution_count": 9,
   "metadata": {},
   "outputs": [
    {
     "data": {
      "text/plain": [
       "array([0.73186869, 0.73141414, 0.73282828])"
      ]
     },
     "execution_count": 9,
     "metadata": {},
     "output_type": "execute_result"
    }
   ],
   "source": [
    "sgd = SGDClassifier()\n",
    "cross_val_score(sgd, X_train, y_train, cv=StratifiedKFold(n_splits=3), scoring=\"accuracy\")"
   ]
  },
  {
   "cell_type": "code",
   "execution_count": 10,
   "metadata": {},
   "outputs": [],
   "source": [
    "y_train_pred = cross_val_predict(sgd, X_train, y_train, cv=3)"
   ]
  },
  {
   "cell_type": "code",
   "execution_count": 11,
   "metadata": {},
   "outputs": [
    {
     "data": {
      "image/png": "[encoded data removed]",
      "text/plain": [
       "<Figure size 576x576 with 1 Axes>"
      ]
     },
     "metadata": {
      "needs_background": "light"
     },
     "output_type": "display_data"
    }
   ],
   "source": [
    "conf_mx = confusion_matrix(y_train, y_train_pred)\n",
    "\n",
    "fig, ax = plt.subplots(figsize=(8, 8))\n",
    "ax.matshow(conf_mx, cmap=plt.cm.Blues, alpha=0.3)\n",
    "for i in range(conf_mx.shape[0]):\n",
    "    for j in range(conf_mx.shape[1]):\n",
    "        perc = str(round((conf_mx[i, j]/conf_mx.sum())*100,2)) + \"%\"\n",
    "        ax.text(x=j, y=i, s=str(conf_mx[i, j])+\"\\n\\n\"+perc, va='center', ha='center')\n",
    "\n",
    "plt.xlabel('predicted label')\n",
    "plt.ylabel('true label')\n",
    "\n",
    "plt.tight_layout()\n",
    "plt.show()"
   ]
  },
  {
   "cell_type": "markdown",
   "metadata": {},
   "source": [
    "#### Trying to Optimize the SGD Model with Baeysian Optimization with gaussian process"
   ]
  },
  {
   "cell_type": "code",
   "execution_count": 36,
   "metadata": {},
   "outputs": [],
   "source": [
    "def optimize_sgd(params,param_names,x,y):\n",
    "    params = dict(zip(param_names,params)) \n",
    "    model = SGDClassifier(**params) #It takes the params as parameter\n",
    "    kf = StratifiedKFold(n_splits=5)\n",
    "    accuracies = []\n",
    "    \n",
    "    return -np.mean(cross_val_score(model, X_train, y_train, cv=StratifiedKFold(n_splits=3),n_jobs=-1, scoring=\"accuracy\"))"
   ]
  },
  {
   "cell_type": "code",
   "execution_count": 37,
   "metadata": {},
   "outputs": [],
   "source": [
    "param_space_sgd = [\n",
    "    space.Categorical([\"none\",\"l2\",\"l1\",\"elasticnet\"],name=\"penalty\"),\n",
    "    space.Real(0.00001,0.01,prior=\"log-uniform\",name=\"alpha\"),\n",
    "    space.Categorical([\"log\"],name=\"loss\")\n",
    "]\n",
    "param_names_sgd = [\"penalty\",\"alpha\",\"loss\"]\n",
    "optimization_function = partial(optimize_sgd,param_names= param_names_sgd,x = X_train,y = y_train)"
   ]
  },
  {
   "cell_type": "code",
   "execution_count": 38,
   "metadata": {},
   "outputs": [
    {
     "name": "stdout",
     "output_type": "stream",
     "text": [
      "Iteration No: 1 started. Evaluating function at random point.\n",
      "Iteration No: 1 ended. Evaluation done at random point.\n",
      "Time taken: 1.8025\n",
      "Function value obtained: -0.7352\n",
      "Current minimum: -0.7352\n",
      "Iteration No: 2 started. Evaluating function at random point.\n",
      "Iteration No: 2 ended. Evaluation done at random point.\n",
      "Time taken: 1.4575\n",
      "Function value obtained: -0.7357\n",
      "Current minimum: -0.7357\n",
      "Iteration No: 3 started. Evaluating function at random point.\n",
      "Iteration No: 3 ended. Evaluation done at random point.\n",
      "Time taken: 1.8462\n",
      "Function value obtained: -0.7343\n",
      "Current minimum: -0.7357\n",
      "Iteration No: 4 started. Evaluating function at random point.\n",
      "Iteration No: 4 ended. Evaluation done at random point.\n",
      "Time taken: 2.8818\n",
      "Function value obtained: -0.7292\n",
      "Current minimum: -0.7357\n",
      "Iteration No: 5 started. Evaluating function at random point.\n",
      "Iteration No: 5 ended. Evaluation done at random point.\n",
      "Time taken: 0.9397\n",
      "Function value obtained: -0.7355\n",
      "Current minimum: -0.7357\n",
      "Iteration No: 6 started. Evaluating function at random point.\n",
      "Iteration No: 6 ended. Evaluation done at random point.\n",
      "Time taken: 0.9830\n",
      "Function value obtained: -0.7355\n",
      "Current minimum: -0.7357\n",
      "Iteration No: 7 started. Evaluating function at random point.\n",
      "Iteration No: 7 ended. Evaluation done at random point.\n",
      "Time taken: 0.8605\n",
      "Function value obtained: -0.7310\n",
      "Current minimum: -0.7357\n",
      "Iteration No: 8 started. Evaluating function at random point.\n",
      "Iteration No: 8 ended. Evaluation done at random point.\n",
      "Time taken: 0.7217\n",
      "Function value obtained: -0.7278\n",
      "Current minimum: -0.7357\n",
      "Iteration No: 9 started. Evaluating function at random point.\n",
      "Iteration No: 9 ended. Evaluation done at random point.\n",
      "Time taken: 0.9960\n",
      "Function value obtained: -0.7352\n",
      "Current minimum: -0.7357\n",
      "Iteration No: 10 started. Evaluating function at random point.\n",
      "Iteration No: 10 ended. Evaluation done at random point.\n",
      "Time taken: 1.0120\n",
      "Function value obtained: -0.7332\n",
      "Current minimum: -0.7357\n"
     ]
    }
   ],
   "source": [
    "result = gp_minimize(optimization_function,dimensions=param_space_sgd,n_calls=10,verbose=10)"
   ]
  },
  {
   "cell_type": "code",
   "execution_count": 39,
   "metadata": {},
   "outputs": [
    {
     "name": "stdout",
     "output_type": "stream",
     "text": [
      "Best Score = -0.7357\n"
     ]
    }
   ],
   "source": [
    "print(\"Best Score = %.4f\" % result.fun)"
   ]
  },
  {
   "cell_type": "code",
   "execution_count": 40,
   "metadata": {},
   "outputs": [
    {
     "data": {
      "text/plain": [
       "{'penalty': 'none', 'alpha': 0.0034706435880870164, 'loss': 'log'}"
      ]
     },
     "execution_count": 40,
     "metadata": {},
     "output_type": "execute_result"
    }
   ],
   "source": [
    "sgd_params = dict(zip(param_names_sgd,result.x))\n",
    "sgd_params"
   ]
  },
  {
   "cell_type": "code",
   "execution_count": 24,
   "metadata": {},
   "outputs": [],
   "source": [
    "pickle.dump(result, open('bayessian_optimization_sgd.sav', 'wb'))"
   ]
  },
  {
   "cell_type": "markdown",
   "metadata": {},
   "source": [
    "#### KNN Classifier"
   ]
  },
  {
   "cell_type": "code",
   "execution_count": 25,
   "metadata": {},
   "outputs": [
    {
     "data": {
      "text/plain": [
       "array([0.76717172, 0.76868687, 0.76641414])"
      ]
     },
     "execution_count": 25,
     "metadata": {},
     "output_type": "execute_result"
    }
   ],
   "source": [
    "knn = KNeighborsClassifier()\n",
    "cross_val_score(knn, X_train, y_train, cv=StratifiedKFold(n_splits=3), scoring=\"accuracy\")"
   ]
  },
  {
   "cell_type": "code",
   "execution_count": 26,
   "metadata": {},
   "outputs": [],
   "source": [
    "y_train_pred = cross_val_predict(knn, X_train, y_train, cv=3)"
   ]
  },
  {
   "cell_type": "code",
   "execution_count": 27,
   "metadata": {},
   "outputs": [
    {
     "data": {
      "image/png": "[encoded data removed]",
      "text/plain": [
       "<Figure size 576x576 with 1 Axes>"
      ]
     },
     "metadata": {
      "needs_background": "light"
     },
     "output_type": "display_data"
    }
   ],
   "source": [
    "conf_mx = confusion_matrix(y_train, y_train_pred)\n",
    "\n",
    "fig, ax = plt.subplots(figsize=(8, 8))\n",
    "ax.matshow(conf_mx, cmap=plt.cm.Blues, alpha=0.3)\n",
    "for i in range(conf_mx.shape[0]):\n",
    "    for j in range(conf_mx.shape[1]):\n",
    "        perc = str(round((conf_mx[i, j]/conf_mx.sum())*100,2)) + \"%\"\n",
    "        ax.text(x=j, y=i, s=str(conf_mx[i, j])+\"\\n\\n\"+perc, va='center', ha='center')\n",
    "\n",
    "plt.xlabel('predicted label')\n",
    "plt.ylabel('true label')\n",
    "\n",
    "plt.tight_layout()\n",
    "plt.show()"
   ]
  },
  {
   "cell_type": "markdown",
   "metadata": {},
   "source": [
    "#### Trying to Optimize the KNN Model with Baeysian Optimization with gaussian process"
   ]
  },
  {
   "cell_type": "code",
   "execution_count": 29,
   "metadata": {},
   "outputs": [],
   "source": [
    "def optimize_knn(params,param_names,x,y):\n",
    "    params = dict(zip(param_names,params)) \n",
    "    model = KNeighborsClassifier(**params) #It takes the params as parameter\n",
    "    return -np.mean(cross_val_score(model, X_train, y_train, cv=StratifiedKFold(n_splits=3),n_jobs=-1, scoring=\"accuracy\"))"
   ]
  },
  {
   "cell_type": "code",
   "execution_count": 30,
   "metadata": {},
   "outputs": [],
   "source": [
    "param_space_knn = [\n",
    "    space.Categorical(['uniform', 'distance'],name=\"weights\"),\n",
    "    space.Integer(1,10,name=\"n_neighbors\")\n",
    "]\n",
    "param_names_knn = [\"weights\",\"n_neighbors\"]\n",
    "optimization_function = partial(optimize_knn,param_names= param_names_knn,x = X_train,y = y_train)"
   ]
  },
  {
   "cell_type": "code",
   "execution_count": 31,
   "metadata": {},
   "outputs": [
    {
     "name": "stdout",
     "output_type": "stream",
     "text": [
      "Iteration No: 1 started. Evaluating function at random point.\n",
      "Iteration No: 1 ended. Evaluation done at random point.\n",
      "Time taken: 62.1422\n",
      "Function value obtained: -0.7715\n",
      "Current minimum: -0.7715\n",
      "Iteration No: 2 started. Evaluating function at random point.\n",
      "Iteration No: 2 ended. Evaluation done at random point.\n",
      "Time taken: 54.1438\n",
      "Function value obtained: -0.7697\n",
      "Current minimum: -0.7715\n",
      "Iteration No: 3 started. Evaluating function at random point.\n",
      "Iteration No: 3 ended. Evaluation done at random point.\n",
      "Time taken: 32.1412\n",
      "Function value obtained: -0.7585\n",
      "Current minimum: -0.7715\n",
      "Iteration No: 4 started. Evaluating function at random point.\n",
      "Iteration No: 4 ended. Evaluation done at random point.\n",
      "Time taken: 58.0561\n",
      "Function value obtained: -0.7703\n",
      "Current minimum: -0.7715\n",
      "Iteration No: 5 started. Evaluating function at random point.\n",
      "Iteration No: 5 ended. Evaluation done at random point.\n",
      "Time taken: 58.2534\n",
      "Function value obtained: -0.7678\n",
      "Current minimum: -0.7715\n",
      "Iteration No: 6 started. Evaluating function at random point.\n",
      "Iteration No: 6 ended. Evaluation done at random point.\n",
      "Time taken: 31.3748\n",
      "Function value obtained: -0.7585\n",
      "Current minimum: -0.7715\n",
      "Iteration No: 7 started. Evaluating function at random point.\n",
      "Iteration No: 7 ended. Evaluation done at random point.\n",
      "Time taken: 67.6096\n",
      "Function value obtained: -0.7662\n",
      "Current minimum: -0.7715\n",
      "Iteration No: 8 started. Evaluating function at random point.\n",
      "Iteration No: 8 ended. Evaluation done at random point.\n",
      "Time taken: 53.6644\n",
      "Function value obtained: -0.7697\n",
      "Current minimum: -0.7715\n",
      "Iteration No: 9 started. Evaluating function at random point.\n",
      "Iteration No: 9 ended. Evaluation done at random point.\n",
      "Time taken: 57.4628\n",
      "Function value obtained: -0.7703\n",
      "Current minimum: -0.7715\n",
      "Iteration No: 10 started. Evaluating function at random point.\n",
      "Iteration No: 10 ended. Evaluation done at random point.\n",
      "Time taken: 49.8410\n",
      "Function value obtained: -0.7674\n",
      "Current minimum: -0.7715\n"
     ]
    }
   ],
   "source": [
    "result = gp_minimize(optimization_function,dimensions=param_space_knn,n_calls=10,verbose=10)"
   ]
  },
  {
   "cell_type": "code",
   "execution_count": 32,
   "metadata": {},
   "outputs": [
    {
     "name": "stdout",
     "output_type": "stream",
     "text": [
      "Best Score = -0.7715\n"
     ]
    }
   ],
   "source": [
    "print(\"Best Score = %.4f\" % result.fun)"
   ]
  },
  {
   "cell_type": "code",
   "execution_count": 34,
   "metadata": {},
   "outputs": [
    {
     "data": {
      "text/plain": [
       "{'weights': 'distance', 'n_neighbors': 8}"
      ]
     },
     "execution_count": 34,
     "metadata": {},
     "output_type": "execute_result"
    }
   ],
   "source": [
    "knn_params = dict(zip(param_names_knn,result.x))\n",
    "knn_params"
   ]
  },
  {
   "cell_type": "code",
   "execution_count": 42,
   "metadata": {},
   "outputs": [],
   "source": [
    "pickle.dump(result, open('bayessian_optimization_knn.sav', 'wb'))"
   ]
  },
  {
   "cell_type": "markdown",
   "metadata": {},
   "source": [
    "#### XGBoost Classifier"
   ]
  },
  {
   "cell_type": "code",
   "execution_count": 47,
   "metadata": {},
   "outputs": [
    {
     "data": {
      "text/plain": [
       "array([0.78439394, 0.78813131, 0.78242424])"
      ]
     },
     "execution_count": 47,
     "metadata": {},
     "output_type": "execute_result"
    }
   ],
   "source": [
    "xg = xgboost.XGBClassifier()\n",
    "cross_val_score(xg, X_train, y_train, cv=StratifiedKFold(n_splits=3), scoring=\"accuracy\")"
   ]
  },
  {
   "cell_type": "code",
   "execution_count": 49,
   "metadata": {},
   "outputs": [],
   "source": [
    "y_train_pred = cross_val_predict(xg, X_train, y_train, cv=3)"
   ]
  },
  {
   "cell_type": "code",
   "execution_count": 50,
   "metadata": {},
   "outputs": [
    {
     "data": {
      "image/png": "[encoded data removed]",
      "text/plain": [
       "<Figure size 576x576 with 1 Axes>"
      ]
     },
     "metadata": {
      "needs_background": "light"
     },
     "output_type": "display_data"
    }
   ],
   "source": [
    "conf_mx = confusion_matrix(y_train, y_train_pred)\n",
    "\n",
    "fig, ax = plt.subplots(figsize=(8, 8))\n",
    "ax.matshow(conf_mx, cmap=plt.cm.Blues, alpha=0.3)\n",
    "for i in range(conf_mx.shape[0]):\n",
    "    for j in range(conf_mx.shape[1]):\n",
    "        perc = str(round((conf_mx[i, j]/conf_mx.sum())*100,2)) + \"%\"\n",
    "        ax.text(x=j, y=i, s=str(conf_mx[i, j])+\"\\n\\n\"+perc, va='center', ha='center')\n",
    "\n",
    "plt.xlabel('predicted label')\n",
    "plt.ylabel('true label')\n",
    "\n",
    "plt.tight_layout()\n",
    "plt.show()"
   ]
  },
  {
   "cell_type": "markdown",
   "metadata": {},
   "source": [
    "#### Trying to Optimize the XGboost Model with Baeysian Optimization with gaussian process"
   ]
  },
  {
   "cell_type": "code",
   "execution_count": 52,
   "metadata": {},
   "outputs": [],
   "source": [
    "def optimize_xg(params,param_names,x,y):\n",
    "    params = dict(zip(param_names,params)) \n",
    "    model = xgboost.XGBClassifier(**params) #It takes the params as parameter\n",
    "    return -np.mean(cross_val_score(model, X_train, y_train, cv=StratifiedKFold(n_splits=3),n_jobs=-1, scoring=\"accuracy\"))"
   ]
  },
  {
   "cell_type": "code",
   "execution_count": 54,
   "metadata": {},
   "outputs": [],
   "source": [
    "param_space_xg = [\n",
    "    space.Integer(50,300,name=\"n_estimators\"),\n",
    "    space.Integer(1,10,name=\"max_depth\"),\n",
    "    space.Real(0.0001,0.1,prior=\"log-uniform\",name=\"learning_rate\")\n",
    "]\n",
    "param_names_xg = [\"n_estimators\",\"max_depth\",\"learning_rate\"]\n",
    "optimization_function = partial(optimize_xg,param_names= param_names_xg,x = X_train,y = y_train)"
   ]
  },
  {
   "cell_type": "code",
   "execution_count": 55,
   "metadata": {},
   "outputs": [
    {
     "name": "stdout",
     "output_type": "stream",
     "text": [
      "Iteration No: 1 started. Evaluating function at random point.\n",
      "Iteration No: 1 ended. Evaluation done at random point.\n",
      "Time taken: 149.4969\n",
      "Function value obtained: -0.6625\n",
      "Current minimum: -0.6625\n",
      "Iteration No: 2 started. Evaluating function at random point.\n",
      "Iteration No: 2 ended. Evaluation done at random point.\n",
      "Time taken: 69.4157\n",
      "Function value obtained: -0.6708\n",
      "Current minimum: -0.6708\n",
      "Iteration No: 3 started. Evaluating function at random point.\n",
      "Iteration No: 3 ended. Evaluation done at random point.\n",
      "Time taken: 408.8701\n",
      "Function value obtained: -0.7678\n",
      "Current minimum: -0.7678\n",
      "Iteration No: 4 started. Evaluating function at random point.\n",
      "Iteration No: 4 ended. Evaluation done at random point.\n",
      "Time taken: 356.7607\n",
      "Function value obtained: -0.6957\n",
      "Current minimum: -0.7678\n",
      "Iteration No: 5 started. Evaluating function at random point.\n",
      "Iteration No: 5 ended. Evaluation done at random point.\n",
      "Time taken: 352.9683\n",
      "Function value obtained: -0.7362\n",
      "Current minimum: -0.7678\n",
      "Iteration No: 6 started. Evaluating function at random point.\n",
      "Iteration No: 6 ended. Evaluation done at random point.\n",
      "Time taken: 291.6071\n",
      "Function value obtained: -0.6965\n",
      "Current minimum: -0.7678\n",
      "Iteration No: 7 started. Evaluating function at random point.\n",
      "Iteration No: 7 ended. Evaluation done at random point.\n",
      "Time taken: 406.5352\n",
      "Function value obtained: -0.7052\n",
      "Current minimum: -0.7678\n",
      "Iteration No: 8 started. Evaluating function at random point.\n",
      "Iteration No: 8 ended. Evaluation done at random point.\n",
      "Time taken: 361.6681\n",
      "Function value obtained: -0.7723\n",
      "Current minimum: -0.7723\n",
      "Iteration No: 9 started. Evaluating function at random point.\n",
      "Iteration No: 9 ended. Evaluation done at random point.\n",
      "Time taken: 412.0397\n",
      "Function value obtained: -0.7244\n",
      "Current minimum: -0.7723\n",
      "Iteration No: 10 started. Evaluating function at random point.\n",
      "Iteration No: 10 ended. Evaluation done at random point.\n",
      "Time taken: 77.6999\n",
      "Function value obtained: -0.6578\n",
      "Current minimum: -0.7723\n"
     ]
    }
   ],
   "source": [
    "result = gp_minimize(optimization_function,dimensions=param_space_xg,n_calls=10,verbose=10)"
   ]
  },
  {
   "cell_type": "code",
   "execution_count": 56,
   "metadata": {},
   "outputs": [
    {
     "name": "stdout",
     "output_type": "stream",
     "text": [
      "Best Score = -0.7723\n"
     ]
    }
   ],
   "source": [
    "print(\"Best Score = %.4f\" % result.fun)"
   ]
  },
  {
   "cell_type": "code",
   "execution_count": 58,
   "metadata": {},
   "outputs": [
    {
     "data": {
      "text/plain": [
       "{'n_estimators': 247, 'max_depth': 5, 'learning_rate': 0.046119524684849804}"
      ]
     },
     "execution_count": 58,
     "metadata": {},
     "output_type": "execute_result"
    }
   ],
   "source": [
    "xgb_params = dict(zip(param_names_xg,result.x))\n",
    "xgb_params"
   ]
  },
  {
   "cell_type": "code",
   "execution_count": 59,
   "metadata": {},
   "outputs": [],
   "source": [
    "pickle.dump(result, open('bayessian_optimization_xgb.sav', 'wb'))"
   ]
  },
  {
   "cell_type": "markdown",
   "metadata": {},
   "source": [
    "XG perfomed better than Random Forest"
   ]
  },
  {
   "cell_type": "markdown",
   "metadata": {},
   "source": [
    "Putting all the models in an ensemble model and run a voting classifier"
   ]
  },
  {
   "cell_type": "code",
   "execution_count": 9,
   "metadata": {},
   "outputs": [],
   "source": [
    "sgd_classifier = SGDClassifier(**sgd_params)\n",
    "rnd_classifier = RandomForestClassifier(**rf_params)\n",
    "knn_classifier = KNeighborsClassifier(**knn_params)\n",
    "log_classifier = LogisticRegression(multi_class=\"multinomial\",solver=\"lbfgs\",C= 30, n_jobs=-1)\n",
    "dtr_classifier = DecisionTreeClassifier(max_depth= 20, min_samples_split= 10)\n",
    "ada_classifier = AdaBoostClassifier(DecisionTreeClassifier(max_depth=5), n_estimators=200, algorithm=\"SAMME.R\", \n",
    "                             learning_rate=0.5)\n",
    "gbrt_classifier = GradientBoostingClassifier(max_depth=5, n_estimators=500, learning_rate=0.5)\n",
    "xgb_classifier = xgboost.XGBClassifier(**xgb_params)\n",
    "\n",
    "clf_list = [sgd_classifier,rnd_classifier,knn_classifier,log_classifier,dtr_classifier,ada_classifier,gbrt_classifier,xgb_classifier]"
   ]
  },
  {
   "cell_type": "code",
   "execution_count": 10,
   "metadata": {},
   "outputs": [
    {
     "data": {
      "text/plain": [
       "VotingClassifier(estimators=[('SGD Classifier',\n",
       "                              SGDClassifier(alpha=0.0034706435880870164,\n",
       "                                            average=False, class_weight=None,\n",
       "                                            early_stopping=False, epsilon=0.1,\n",
       "                                            eta0=0.0, fit_intercept=True,\n",
       "                                            l1_ratio=0.15,\n",
       "                                            learning_rate='optimal', loss='log',\n",
       "                                            max_iter=1000, n_iter_no_change=5,\n",
       "                                            n_jobs=None, penalty='none',\n",
       "                                            power_t=0.5, random_state=None,\n",
       "                                            shuffle=True, tol=0.001,\n",
       "                                            validat...\n",
       "                                            max_delta_step=None, max_depth=5,\n",
       "                                            min_child_weight=None, missing=nan,\n",
       "                                            monotone_constraints=None,\n",
       "                                            n_estimators=247, n_jobs=None,\n",
       "                                            num_parallel_tree=None,\n",
       "                                            objective='binary:logistic',\n",
       "                                            random_state=None, reg_alpha=None,\n",
       "                                            reg_lambda=None,\n",
       "                                            scale_pos_weight=None,\n",
       "                                            subsample=None, tree_method=None,\n",
       "                                            validate_parameters=None,\n",
       "                                            verbosity=None))],\n",
       "                 flatten_transform=True, n_jobs=-1, voting='hard',\n",
       "                 weights=None)"
      ]
     },
     "execution_count": 10,
     "metadata": {},
     "output_type": "execute_result"
    }
   ],
   "source": [
    "voting_cls = VotingClassifier(\n",
    "    estimators=[('SGD Classifier', clf_list[0]), \n",
    "                ('Random Forests', clf_list[1]),\n",
    "                ('k-Nearest Neighbors', clf_list[2]), \n",
    "                ('Softmax Regression', clf_list[3]),\n",
    "                ('Decission Trees', clf_list[4]), \n",
    "                ('AdaBoost', clf_list[5]),\n",
    "                ('Gradient Boost', clf_list[6]), \n",
    "                ('XGBoost', clf_list[7])], \n",
    "                voting='hard', n_jobs=-1)\n",
    "voting_cls.fit(X_train, y_train)"
   ]
  },
  {
   "cell_type": "code",
   "execution_count": 14,
   "metadata": {},
   "outputs": [
    {
     "data": {
      "text/plain": [
       "0.7847474747474749"
      ]
     },
     "execution_count": 14,
     "metadata": {},
     "output_type": "execute_result"
    }
   ],
   "source": [
    "cv_results = cross_validate(voting_cls, X_train, y_train, cv = 3, scoring=\"accuracy\")\n",
    "cv_results['test_score'].mean()"
   ]
  },
  {
   "cell_type": "code",
   "execution_count": 15,
   "metadata": {},
   "outputs": [],
   "source": [
    "pickle.dump(voting_cls, open('voting_cls.sav', 'wb'))"
   ]
  },
  {
   "cell_type": "markdown",
   "metadata": {},
   "source": [
    "#### Stacking "
   ]
  },
  {
   "cell_type": "code",
   "execution_count": 16,
   "metadata": {},
   "outputs": [
    {
     "data": {
      "text/plain": [
       "(59400, 100)"
      ]
     },
     "execution_count": 16,
     "metadata": {},
     "output_type": "execute_result"
    }
   ],
   "source": [
    "X_train.shape"
   ]
  },
  {
   "cell_type": "code",
   "execution_count": 17,
   "metadata": {},
   "outputs": [
    {
     "data": {
      "text/plain": [
       "((33000, 100), (13200, 100), (13200, 100))"
      ]
     },
     "execution_count": 17,
     "metadata": {},
     "output_type": "execute_result"
    }
   ],
   "source": [
    "shuf_idx = np.random.permutation(len(X_train))\n",
    "\n",
    "#Splitting into train,test,validation\n",
    "Xtr = X_train[shuf_idx[:33000]]\n",
    "ytr = y_train[shuf_idx[:33000]]\n",
    "# validation set\n",
    "Xvl = X_train[shuf_idx[33000:46200]]\n",
    "yvl = y_train[shuf_idx[33000:46200]]\n",
    "# test set\n",
    "Xts = X_train[shuf_idx[46200:]]\n",
    "yts = y_train[shuf_idx[46200:]]\n",
    "\n",
    "Xtr.shape, Xvl.shape, Xts.shape"
   ]
  },
  {
   "cell_type": "code",
   "execution_count": 20,
   "metadata": {},
   "outputs": [
    {
     "name": "stdout",
     "output_type": "stream",
     "text": [
      "Fitted 1/8\n",
      "Fitted 2/8\n",
      "Fitted 3/8\n",
      "Fitted 4/8\n",
      "Fitted 5/8\n",
      "Fitted 6/8\n",
      "Fitted 7/8\n",
      "Fitted 8/8\n"
     ]
    }
   ],
   "source": [
    "#Fitting the training set to all the classifiers in the clf_list\n",
    "for i,clf in enumerate(clf_list):\n",
    "    clf.fit(Xtr,ytr)\n",
    "    print(\"Fitted {}/{}\".format(i+1,len(clf_list)))"
   ]
  },
  {
   "cell_type": "code",
   "execution_count": 21,
   "metadata": {},
   "outputs": [
    {
     "name": "stdout",
     "output_type": "stream",
     "text": [
      "Predicted 1/8\n",
      "Predicted 2/8\n",
      "Predicted 3/8\n",
      "Predicted 4/8\n",
      "Predicted 5/8\n",
      "Predicted 6/8\n",
      "Predicted 7/8\n",
      "Predicted 8/8\n"
     ]
    }
   ],
   "source": [
    "# run individual classifiers on val set\n",
    "yhat = {}\n",
    "for i, clf in enumerate(clf_list):\n",
    "    yhat[i] = clf.predict(Xvl)\n",
    "    print(\"Predicted {}/{}\".format(i+1,len(clf_list)))"
   ]
  },
  {
   "cell_type": "code",
   "execution_count": 22,
   "metadata": {},
   "outputs": [],
   "source": [
    "# create new training set from predictions\n",
    "# combine the predictions into vectors using a horizontal stacking\n",
    "Xblend = np.c_[[preds for preds in yhat.values()]].T"
   ]
  },
  {
   "cell_type": "code",
   "execution_count": 23,
   "metadata": {},
   "outputs": [],
   "source": [
    "#Transform labels into codes\n",
    "le = preprocessing.LabelEncoder()\n",
    "Xblend = le.fit_transform(Xblend.reshape(13200*8)).reshape(13200,8)"
   ]
  },
  {
   "cell_type": "code",
   "execution_count": 24,
   "metadata": {},
   "outputs": [
    {
     "data": {
      "text/plain": [
       "RandomForestClassifier(bootstrap=True, ccp_alpha=0.0, class_weight=None,\n",
       "                       criterion='gini', max_depth=None, max_features='auto',\n",
       "                       max_leaf_nodes=None, max_samples=None,\n",
       "                       min_impurity_decrease=0.0, min_impurity_split=None,\n",
       "                       min_samples_leaf=1, min_samples_split=2,\n",
       "                       min_weight_fraction_leaf=0.0, n_estimators=100,\n",
       "                       n_jobs=-1, oob_score=False, random_state=None, verbose=0,\n",
       "                       warm_start=False)"
      ]
     },
     "execution_count": 24,
     "metadata": {},
     "output_type": "execute_result"
    }
   ],
   "source": [
    "# train a random forest classifier on Xblend using yvl for target labels\n",
    "rf_blend = RandomForestClassifier(n_estimators=100, n_jobs=-1)\n",
    "rf_blend.fit(Xblend, yvl)"
   ]
  },
  {
   "cell_type": "code",
   "execution_count": 25,
   "metadata": {},
   "outputs": [
    {
     "data": {
      "text/plain": [
       "0.7805303030303031"
      ]
     },
     "execution_count": 25,
     "metadata": {},
     "output_type": "execute_result"
    }
   ],
   "source": [
    "cv_results = cross_validate(rf_blend, Xblend, yvl, cv = 3, scoring=\"accuracy\")\n",
    "\n",
    "pickle.dump(rf_blend, open('rf_blend.sav', 'wb'))\n",
    "\n",
    "cv_results['test_score'].mean()"
   ]
  },
  {
   "cell_type": "code",
   "execution_count": 26,
   "metadata": {},
   "outputs": [
    {
     "name": "stdout",
     "output_type": "stream",
     "text": [
      "Predicted 1/8\n",
      "Predicted 2/8\n",
      "Predicted 3/8\n",
      "Predicted 4/8\n",
      "Predicted 5/8\n",
      "Predicted 6/8\n",
      "Predicted 7/8\n",
      "Predicted 8/8\n"
     ]
    }
   ],
   "source": [
    "# run individual classifiers on test set\n",
    "yhatts = {}\n",
    "for i, clf in enumerate(clf_list):\n",
    "    yhatts[i] = clf.predict(Xts)\n",
    "    print(\"Predicted {}/{}\".format(i+1,len(clf_list)))"
   ]
  },
  {
   "cell_type": "code",
   "execution_count": 27,
   "metadata": {},
   "outputs": [
    {
     "data": {
      "text/plain": [
       "0.7788636363636364"
      ]
     },
     "execution_count": 27,
     "metadata": {},
     "output_type": "execute_result"
    }
   ],
   "source": [
    "Xblendts = np.c_[[preds for preds in yhatts.values()]].T\n",
    "\n",
    "Xblendts = le.transform(Xblendts.reshape(13200*8)).reshape(13200,8)\n",
    "\n",
    "cv_results = cross_validate(rf_blend, Xblendts, yts, cv = 3, scoring=\"accuracy\")\n",
    "cv_results['test_score'].mean()"
   ]
  },
  {
   "cell_type": "markdown",
   "metadata": {},
   "source": [
    "## Ensembling Random Forest and XGBoost"
   ]
  },
  {
   "cell_type": "code",
   "execution_count": 29,
   "metadata": {},
   "outputs": [],
   "source": [
    "rnd_clf = RandomForestClassifier(**rf_params)\n",
    "xgb_clf = xgboost.XGBClassifier(**xgb_params)\n",
    "\n",
    "clf_rfx = [rnd_clf,xgb_clf]"
   ]
  },
  {
   "cell_type": "code",
   "execution_count": 30,
   "metadata": {},
   "outputs": [
    {
     "data": {
      "text/plain": [
       "VotingClassifier(estimators=[('Random Forests',\n",
       "                              RandomForestClassifier(bootstrap=True,\n",
       "                                                     ccp_alpha=0.0,\n",
       "                                                     class_weight=None,\n",
       "                                                     criterion='gini',\n",
       "                                                     max_depth=52,\n",
       "                                                     max_features=0.5783538396142335,\n",
       "                                                     max_leaf_nodes=None,\n",
       "                                                     max_samples=None,\n",
       "                                                     min_impurity_decrease=0.0,\n",
       "                                                     min_impurity_split=None,\n",
       "                                                     min_samples_leaf=1,\n",
       "                                                     min_samples_split=2,\n",
       "                                                     min_weight_fraction_leaf=0.0,\n",
       "                                                     n_estimators=271,...\n",
       "                                            max_delta_step=None, max_depth=5,\n",
       "                                            min_child_weight=None, missing=nan,\n",
       "                                            monotone_constraints=None,\n",
       "                                            n_estimators=247, n_jobs=None,\n",
       "                                            num_parallel_tree=None,\n",
       "                                            objective='binary:logistic',\n",
       "                                            random_state=None, reg_alpha=None,\n",
       "                                            reg_lambda=None,\n",
       "                                            scale_pos_weight=None,\n",
       "                                            subsample=None, tree_method=None,\n",
       "                                            validate_parameters=None,\n",
       "                                            verbosity=None))],\n",
       "                 flatten_transform=True, n_jobs=-1, voting='soft',\n",
       "                 weights=None)"
      ]
     },
     "execution_count": 30,
     "metadata": {},
     "output_type": "execute_result"
    }
   ],
   "source": [
    "voting_clf_ens_rfxgb = VotingClassifier(\n",
    "    estimators=[('Random Forests', clf_rfx[0]),\n",
    "                ('XGBoost', clf_rfx[1])], \n",
    "                voting='soft', n_jobs=-1)\n",
    "voting_clf_ens_rfxgb.fit(X_train, y_train)"
   ]
  },
  {
   "cell_type": "code",
   "execution_count": 32,
   "metadata": {},
   "outputs": [
    {
     "data": {
      "text/plain": [
       "0.7873737373737373"
      ]
     },
     "execution_count": 32,
     "metadata": {},
     "output_type": "execute_result"
    }
   ],
   "source": [
    "cv_results = cross_validate(voting_clf_ens_rfxgb, X_train, y_train, cv = 3, scoring=\"accuracy\")\n",
    "cv_results['test_score'].mean()"
   ]
  },
  {
   "cell_type": "code",
   "execution_count": 33,
   "metadata": {},
   "outputs": [],
   "source": [
    "pickle.dump(voting_clf_ens_rfxgb, open('voting_clf_ens_rfxgb.sav', 'wb'))"
   ]
  },
  {
   "cell_type": "markdown",
   "metadata": {},
   "source": [
    "#### Stacking Random Forest and XGBoost"
   ]
  },
  {
   "cell_type": "code",
   "execution_count": 34,
   "metadata": {},
   "outputs": [
    {
     "data": {
      "text/plain": [
       "((33000, 100), (13200, 100), (13200, 100))"
      ]
     },
     "execution_count": 34,
     "metadata": {},
     "output_type": "execute_result"
    }
   ],
   "source": [
    "idx = np.random.permutation(len(X_train))  # create shuffle index\n",
    "\n",
    "## split into three sets\n",
    "# training set\n",
    "Xtr = X_train[idx[:33000]]\n",
    "ytr = y_train[idx[:33000]]\n",
    "# validation set\n",
    "Xvl = X_train[idx[33000:46200]]\n",
    "yvl = y_train[idx[33000:46200]]\n",
    "# test set\n",
    "Xts = X_train[idx[46200:]]\n",
    "yts = y_train[idx[46200:]]\n",
    "\n",
    "Xtr.shape, Xvl.shape, Xts.shape"
   ]
  },
  {
   "cell_type": "code",
   "execution_count": 35,
   "metadata": {},
   "outputs": [
    {
     "name": "stdout",
     "output_type": "stream",
     "text": [
      "Fitted 1/2\n",
      "Fitted 2/2\n"
     ]
    }
   ],
   "source": [
    "for i, clf in enumerate(clf_rfx):\n",
    "    clf.fit(Xtr, ytr)\n",
    "    print(\"Fitted {}/{}\".format(i+1,len(clf_rfx )))"
   ]
  },
  {
   "cell_type": "code",
   "execution_count": 41,
   "metadata": {},
   "outputs": [
    {
     "data": {
      "text/plain": [
       "XGBClassifier(base_score=0.5, booster='gbtree', colsample_bylevel=1,\n",
       "              colsample_bynode=1, colsample_bytree=1, gamma=0, gpu_id=-1,\n",
       "              importance_type='gain', interaction_constraints='',\n",
       "              learning_rate=0.046119524684849804, max_delta_step=0, max_depth=5,\n",
       "              min_child_weight=1, missing=nan, monotone_constraints='()',\n",
       "              n_estimators=247, n_jobs=0, num_parallel_tree=1,\n",
       "              objective='multi:softprob', random_state=0, reg_alpha=0,\n",
       "              reg_lambda=1, scale_pos_weight=None, subsample=1,\n",
       "              tree_method='exact', validate_parameters=1, verbosity=None)"
      ]
     },
     "execution_count": 41,
     "metadata": {},
     "output_type": "execute_result"
    }
   ],
   "source": [
    "clf"
   ]
  },
  {
   "cell_type": "code",
   "execution_count": 36,
   "metadata": {},
   "outputs": [
    {
     "name": "stdout",
     "output_type": "stream",
     "text": [
      "Predicted 1/2\n",
      "Predicted 2/2\n"
     ]
    }
   ],
   "source": [
    "# run individual classifiers on val set\n",
    "yhat = {}\n",
    "for i, clf in enumerate(clf_rfx):\n",
    "    yhat[i] = clf.predict(Xvl)\n",
    "    print(\"Predicted {}/{}\".format(i+1,len(clf_rfx)))"
   ]
  },
  {
   "cell_type": "code",
   "execution_count": 40,
   "metadata": {},
   "outputs": [
    {
     "data": {
      "text/plain": [
       "{0: array(['functional', 'functional', 'non functional', ..., 'functional',\n",
       "        'non functional', 'non functional'], dtype=object),\n",
       " 1: array(['functional', 'functional', 'non functional', ..., 'functional',\n",
       "        'non functional', 'non functional'], dtype=object)}"
      ]
     },
     "execution_count": 40,
     "metadata": {},
     "output_type": "execute_result"
    }
   ],
   "source": [
    "yhat"
   ]
  },
  {
   "cell_type": "code",
   "execution_count": 37,
   "metadata": {},
   "outputs": [],
   "source": [
    "# create new training set from predictions\n",
    "# combine the predictions into vectors using a horizontal stacking\n",
    "Xblend = np.c_[[preds for preds in yhat.values()]].T"
   ]
  },
  {
   "cell_type": "code",
   "execution_count": 38,
   "metadata": {},
   "outputs": [],
   "source": [
    "#Transform labels into codes\n",
    "le = preprocessing.LabelEncoder()\n",
    "Xblend = le.fit_transform(Xblend.reshape(13200*2)).reshape(13200,2)"
   ]
  },
  {
   "cell_type": "code",
   "execution_count": 44,
   "metadata": {},
   "outputs": [
    {
     "data": {
      "text/plain": [
       "RandomForestClassifier(bootstrap=True, ccp_alpha=0.0, class_weight=None,\n",
       "                       criterion='gini', max_depth=None, max_features='auto',\n",
       "                       max_leaf_nodes=None, max_samples=None,\n",
       "                       min_impurity_decrease=0.0, min_impurity_split=None,\n",
       "                       min_samples_leaf=1, min_samples_split=2,\n",
       "                       min_weight_fraction_leaf=0.0, n_estimators=300,\n",
       "                       n_jobs=-1, oob_score=False, random_state=None, verbose=0,\n",
       "                       warm_start=False)"
      ]
     },
     "execution_count": 44,
     "metadata": {},
     "output_type": "execute_result"
    }
   ],
   "source": [
    "# train a random forest classifier on Xblend using yvl for target labels\n",
    "rf_blend = RandomForestClassifier(n_estimators=300, n_jobs=-1)\n",
    "rf_blend.fit(Xblend, yvl)"
   ]
  },
  {
   "cell_type": "code",
   "execution_count": 45,
   "metadata": {},
   "outputs": [
    {
     "data": {
      "text/plain": [
       "0.7731060606060606"
      ]
     },
     "execution_count": 45,
     "metadata": {},
     "output_type": "execute_result"
    }
   ],
   "source": [
    "cv_results = cross_validate(rf_blend, Xblend, yvl, cv = 3, scoring=\"accuracy\")\n",
    "\n",
    "pickle.dump(rf_blend, open('rf_blend.sav', 'wb'))\n",
    "\n",
    "cv_results['test_score'].mean()"
   ]
  },
  {
   "cell_type": "code",
   "execution_count": 46,
   "metadata": {},
   "outputs": [
    {
     "name": "stdout",
     "output_type": "stream",
     "text": [
      "Predicted 1/2\n",
      "Predicted 2/2\n"
     ]
    }
   ],
   "source": [
    "#Lets see how it performs on unseen data\n",
    "# run individual classifiers on test set\n",
    "yhatts = {}\n",
    "for i, clf in enumerate(clf_rfx):\n",
    "    yhatts[i] = clf.predict(Xts)\n",
    "    print(\"Predicted {}/{}\".format(i+1,len(clf_rfx)))"
   ]
  },
  {
   "cell_type": "code",
   "execution_count": 47,
   "metadata": {},
   "outputs": [
    {
     "data": {
      "text/plain": [
       "0.7784848484848484"
      ]
     },
     "execution_count": 47,
     "metadata": {},
     "output_type": "execute_result"
    }
   ],
   "source": [
    "Xblendts = np.c_[[preds for preds in yhatts.values()]].T\n",
    "\n",
    "Xblendts = le.transform(Xblendts.reshape(13200*2)).reshape(13200,2)\n",
    "\n",
    "cv_results = cross_validate(rf_blend, Xblendts, yts, cv = 3, scoring=\"accuracy\")\n",
    "cv_results['test_score'].mean()"
   ]
  },
  {
   "cell_type": "markdown",
   "metadata": {},
   "source": [
    "#### Submisssion "
   ]
  },
  {
   "cell_type": "code",
   "execution_count": 50,
   "metadata": {},
   "outputs": [
    {
     "data": {
      "text/html": [
       "<div>\n",
       "<style scoped>\n",
       "    .dataframe tbody tr th:only-of-type {\n",
       "        vertical-align: middle;\n",
       "    }\n",
       "\n",
       "    .dataframe tbody tr th {\n",
       "        vertical-align: top;\n",
       "    }\n",
       "\n",
       "    .dataframe thead th {\n",
       "        text-align: right;\n",
       "    }\n",
       "</style>\n",
       "<table border=\"1\" class=\"dataframe\">\n",
       "  <thead>\n",
       "    <tr style=\"text-align: right;\">\n",
       "      <th></th>\n",
       "      <th>id</th>\n",
       "      <th>status_group</th>\n",
       "    </tr>\n",
       "  </thead>\n",
       "  <tbody>\n",
       "    <tr>\n",
       "      <th>0</th>\n",
       "      <td>50785</td>\n",
       "      <td>predicted label</td>\n",
       "    </tr>\n",
       "    <tr>\n",
       "      <th>1</th>\n",
       "      <td>51630</td>\n",
       "      <td>predicted label</td>\n",
       "    </tr>\n",
       "    <tr>\n",
       "      <th>2</th>\n",
       "      <td>17168</td>\n",
       "      <td>predicted label</td>\n",
       "    </tr>\n",
       "    <tr>\n",
       "      <th>3</th>\n",
       "      <td>45559</td>\n",
       "      <td>predicted label</td>\n",
       "    </tr>\n",
       "    <tr>\n",
       "      <th>4</th>\n",
       "      <td>49871</td>\n",
       "      <td>predicted label</td>\n",
       "    </tr>\n",
       "    <tr>\n",
       "      <th>5</th>\n",
       "      <td>52449</td>\n",
       "      <td>predicted label</td>\n",
       "    </tr>\n",
       "    <tr>\n",
       "      <th>6</th>\n",
       "      <td>24806</td>\n",
       "      <td>predicted label</td>\n",
       "    </tr>\n",
       "    <tr>\n",
       "      <th>7</th>\n",
       "      <td>28965</td>\n",
       "      <td>predicted label</td>\n",
       "    </tr>\n",
       "    <tr>\n",
       "      <th>8</th>\n",
       "      <td>36301</td>\n",
       "      <td>predicted label</td>\n",
       "    </tr>\n",
       "    <tr>\n",
       "      <th>9</th>\n",
       "      <td>54122</td>\n",
       "      <td>predicted label</td>\n",
       "    </tr>\n",
       "  </tbody>\n",
       "</table>\n",
       "</div>"
      ],
      "text/plain": [
       "      id     status_group\n",
       "0  50785  predicted label\n",
       "1  51630  predicted label\n",
       "2  17168  predicted label\n",
       "3  45559  predicted label\n",
       "4  49871  predicted label\n",
       "5  52449  predicted label\n",
       "6  24806  predicted label\n",
       "7  28965  predicted label\n",
       "8  36301  predicted label\n",
       "9  54122  predicted label"
      ]
     },
     "execution_count": 50,
     "metadata": {},
     "output_type": "execute_result"
    }
   ],
   "source": [
    "submission_fr.head(10)"
   ]
  },
  {
   "cell_type": "code",
   "execution_count": 48,
   "metadata": {},
   "outputs": [],
   "source": [
    "preds = voting_clf_ens_rfxgb.predict(X_test)"
   ]
  },
  {
   "cell_type": "code",
   "execution_count": 49,
   "metadata": {},
   "outputs": [
    {
     "data": {
      "text/plain": [
       "(14850,)"
      ]
     },
     "execution_count": 49,
     "metadata": {},
     "output_type": "execute_result"
    }
   ],
   "source": [
    "preds.shape"
   ]
  },
  {
   "cell_type": "code",
   "execution_count": 51,
   "metadata": {},
   "outputs": [],
   "source": [
    "submission = pd.DataFrame({'id': submission_fr[\"id\"],'status_group': preds})\n",
    "submission.to_csv('submission.csv', index=False)"
   ]
  },
  {
   "cell_type": "code",
   "execution_count": null,
   "metadata": {},
   "outputs": [],
   "source": []
  }
 ],
 "metadata": {
  "kernelspec": {
   "display_name": "TensorFlow-GPU-2.2",
   "language": "python",
   "name": "tf-gpu"
  },
  "language_info": {
   "codemirror_mode": {
    "name": "ipython",
    "version": 3
   },
   "file_extension": ".py",
   "mimetype": "text/x-python",
   "name": "python",
   "nbconvert_exporter": "python",
   "pygments_lexer": "ipython3",
   "version": "3.7.7"
  }
 },
 "nbformat": 4,
 "nbformat_minor": 4
}
